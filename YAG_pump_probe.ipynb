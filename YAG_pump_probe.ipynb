{
 "cells": [
  {
   "cell_type": "code",
   "execution_count": null,
   "metadata": {
    "collapsed": true
   },
   "outputs": [],
   "source": [
    "%matplotlib nbagg\n",
    "import numpy as np\n",
    "import json\n",
    "import os\n",
    "from matplotlib import pyplot as plt\n",
    "from scipy.optimize import curve_fit\n",
    "from IPython.display import clear_output, display\n",
    "\n",
    "from alvra_tools.load_data import *\n",
    "from alvra_tools.channels import *\n",
    "#from alvra_tools.channels_raw import *\n",
    "from alvra_tools.utils import errfunc_sigma, errfunc_fwhm"
   ]
  },
  {
   "cell_type": "code",
   "execution_count": null,
   "metadata": {
    "collapsed": true
   },
   "outputs": [],
   "source": [
    "#scan_name =\"YAG_FEL0.2_2605_021\"\n",
    "scan_name =\"YAG_timing\"\n",
    "scan_range =\".run000456-000486\"\n",
    "#timing_YAG_2.56keV.\n",
    "\n",
    "#DIR = \"/sf/alvra/data/p17807/res/scan_data/\" + scan_name + \"/\"\n",
    "DIR = \"/sf/alvra/data/p18389/raw/scan_data/\" + scan_name + \"/\"\n",
    "DIR_json = \"/sf/alvra/data/p18389/res/scan_info/\""
   ]
  },
  {
   "cell_type": "code",
   "execution_count": null,
   "metadata": {
    "scrolled": true
   },
   "outputs": [],
   "source": [
    "!ls -la -rt $DIR | grep BSREAD.h5\n",
    "\n",
    "\n",
    "!hostname\n",
    "\n",
    "listfile = os.listdir(DIR)\n",
    "number_files = len(listfile)\n",
    "print (\"There are\",number_files,\"files in the folder\", DIR)"
   ]
  },
  {
   "cell_type": "markdown",
   "metadata": {},
   "source": [
    "### Next cell: Signal calculated Shot-to-shot and averaged"
   ]
  },
  {
   "cell_type": "code",
   "execution_count": null,
   "metadata": {},
   "outputs": [],
   "source": [
    "print (channel_BS_pulse_ids)\n",
    "\n",
    "json_file = DIR_json + scan_name + scan_range + \".json\"\n",
    "\n",
    "with open(json_file) as file:\n",
    "    data = json.load(file)\n",
    "numFiles = len(data['scan_files'])\n",
    "#numFiles = 15\n",
    "print (\"Processing\",numFiles,\"files\")\n",
    "print (json_file)\n",
    "\n",
    "Pump_probe = []\n",
    "Pump_probe_avg =[]\n",
    "err_pump_probe =[]\n",
    "Delay_mm = []\n",
    "\n",
    "Izero_FEL_mean = []\n",
    "err_Izero_FEL_mean = []\n",
    "Izero_FEL_all = []\n",
    "Izero_FEL_all_filter = []\n",
    "\n",
    "PIPS_mean = []\n",
    "BAM_mean = []\n",
    "BAM_error = []\n",
    "\n",
    "for i in range(0,numFiles):\n",
    "    filename = str(data['scan_files'][i][0])\n",
    "    exists = os.path.isfile(filename)\n",
    "\n",
    "    if (exists) and (i!=12):\n",
    "        clear_output(wait=True)\n",
    "        print(\"step\",i+1,\"of\",numFiles,\": Processing %s\" % (str(data['scan_files'][i][0])))\n",
    "        (Laser_pump, Laser_unpump, Laser_ref_pump, Laser_ref_unpump, Izero_FEL, PIPS, delay, pids_loop) = \\\n",
    "        load_YAG_events(str(data['scan_files'][i][0]))\n",
    "           \n",
    "        threshold_FEL = Izero_FEL > 0.05\n",
    "        condition_FEL = Izero_FEL > np.median(Izero_FEL)-2*(np.std(Izero_FEL))\n",
    "        condition_laser_pump = ((Laser_pump > 10))# & (Laser_ref_pump > 10))\n",
    "        condition_laser_unpump = ((Laser_unpump > 10))# & (Laser_ref_unpump > 10))\n",
    "        \n",
    "        Laser_pump = Laser_pump[threshold_FEL & condition_FEL & condition_laser_pump & condition_laser_unpump]\n",
    "        Laser_unpump = Laser_unpump[threshold_FEL & condition_FEL & condition_laser_pump & condition_laser_unpump]\n",
    "        Laser_ref_pump = Laser_ref_pump[threshold_FEL & condition_FEL & condition_laser_pump & condition_laser_unpump]\n",
    "        Laser_ref_unpump = Laser_ref_unpump[threshold_FEL & condition_FEL & condition_laser_pump & condition_laser_unpump]\n",
    "        Izero_FEL_filter = Izero_FEL[threshold_FEL & condition_FEL & condition_laser_pump & condition_laser_unpump]\n",
    "        \n",
    "        print (\"Survived after filtering {} shots\".format(len(Laser_pump)*2))\n",
    "        #Laser_diff = -np.log10((Laser_pump/Laser_ref_pump) / (Laser_unpump/ Laser_ref_unpump))\n",
    "        Laser_diff = -np.log10((Laser_pump) / (Laser_unpump))\n",
    "        #Laser_diff = ((Laser_pump) / (Laser_unpump))\n",
    "    \n",
    "        Pump_probe.append(Laser_diff.mean())\n",
    "        err_pump_probe.append(Laser_diff.std() / np.sqrt(Laser_diff.size))\n",
    "        \n",
    "        Pump = Laser_pump.mean()\n",
    "        Unpump = Laser_unpump.mean()\n",
    "        Pump_probe_avg.append(-np.log10((Pump) / (Unpump)))\n",
    "        \n",
    "   #    Izero_FEL_all.append(Izero_FEL)\n",
    "   #    Izero_FEL_mean.append(Izero_FEL.mean())\n",
    "   #    err_Izero_FEL_mean.append(Izero_FEL.std() / np.sqrt(Izero_FEL.size))\n",
    "    \n",
    "        Izero_FEL_all_filter.append(Izero_FEL_filter)  \n",
    "        Izero_FEL_mean.append(Izero_FEL_filter.mean())\n",
    "        err_Izero_FEL_mean.append(Izero_FEL_filter.std() / np.sqrt(Izero_FEL_filter.size))\n",
    "        \n",
    "        #PIPS_mean.append(PIPS.mean())\n",
    "        #Delay_mm.append(delay.mean())\n",
    "        #Delay_mm.append(delay[0])\n",
    "        Delay_mm.append(data['scan_readbacks'][i]) ## Delay from the json file\n",
    "        \n",
    "Pump_probe = np.asarray(Pump_probe)\n",
    "Pump_probe_avg = np.asarray(Pump_probe_avg)\n",
    "err_pump_probe = np.asarray(err_pump_probe)\n",
    "\n",
    "Izero_FEL_mean = np.asarray(Izero_FEL_mean)\n",
    "err_Izero_FEL_mean = np.asarray(err_Izero_FEL_mean)\n",
    "\n",
    "Delay_mm = np.asarray(Delay_mm)\n",
    "print (\"PBPS data of the last step have {} shots, avg intensity = {} +/- {}\".format(len(Izero_FEL),round(np.average(Izero_FEL),4), round(np.std(Izero_FEL),4)))\n"
   ]
  },
  {
   "cell_type": "markdown",
   "metadata": {},
   "source": [
    " ### Plot pump probe signals as a function of delay (stage mm)"
   ]
  },
  {
   "cell_type": "code",
   "execution_count": null,
   "metadata": {
    "scrolled": false
   },
   "outputs": [],
   "source": [
    "#savedir = \"/das/work/p17/p17569/Beamline/\"\n",
    "plt.figure(figsize = (10,5))\n",
    "plt.subplot(121)\n",
    "#Pump_probe = Pump_probe/1.007\n",
    "plt.plot(Delay_mm, Pump_probe, label=\"shot-to-shot\",marker='.')\n",
    "\n",
    "low_err = Pump_probe - err_pump_probe\n",
    "high_err = Pump_probe + err_pump_probe\n",
    "plt.fill_between(np.squeeze(Delay_mm), low_err, high_err, color='lightblue')\n",
    "plt.title(scan_name + scan_range)\n",
    "plt.xlabel(\"Delay (mm)\")\n",
    "plt.legend(loc=\"best\")\n",
    "plt.grid()\n",
    "\n",
    "plt.subplot(122)\n",
    "plt.plot(Delay_mm, Pump_probe_avg, label=\"averaged\", color = 'r', marker='.')\n",
    "\n",
    "plt.title(scan_name + scan_range)\n",
    "plt.xlabel(\"Delay (mm)\")\n",
    "plt.legend(loc=\"best\")\n",
    "plt.grid()\n",
    "plt.show()\n",
    "#plt.savefig(savedir + 'LAMcheck_026')"
   ]
  },
  {
   "cell_type": "markdown",
   "metadata": {},
   "source": [
    " ### Extract t0 from the fit "
   ]
  },
  {
   "cell_type": "code",
   "execution_count": null,
   "metadata": {},
   "outputs": [],
   "source": [
    "Pump_probe_toFit = Pump_probe.copy()\n",
    "Delay_mm_toFit = np.copy(Delay_mm.ravel())\n",
    "\n",
    "# Now fit with error funciton\n",
    "index = ~(np.isnan(Delay_mm_toFit) | np.isnan(Pump_probe_toFit))\n",
    "\n",
    "parameters,extras = curve_fit(errfunc_fwhm, Delay_mm_toFit[index], Pump_probe_toFit[index], p0 = [0.4, -0.2, 193.11, 0.1])\n",
    "#parameters,extras = curve_fit(errfunc_fwhm, Delay_mm_toFit, Pump_probe_toFit, p0 = [0.01, 0.12, 161, 0.1])\n",
    "\n",
    "print(\"Position t0 =\",np.round(parameters[2],5),\"mm\")\n",
    "print(\"Width =\",np.abs(np.round(parameters[3],3))*1000,\"um\")"
   ]
  },
  {
   "cell_type": "markdown",
   "metadata": {},
   "source": [
    "### Plot the curve with the fit"
   ]
  },
  {
   "cell_type": "code",
   "execution_count": null,
   "metadata": {},
   "outputs": [],
   "source": [
    "#savedir = \"/das/work/p17/p17569/Beamline/\"\n",
    "\n",
    "plt.figure()\n",
    "\n",
    "plt.plot(Delay_mm_toFit, Pump_probe_toFit, label=f\"{scan_name}\",marker='.')\n",
    "plt.plot(Delay_mm_toFit, errfunc_fwhm(Delay_mm_toFit,*parameters))\n",
    "\n",
    "low_err = Pump_probe - err_pump_probe\n",
    "high_err = Pump_probe + err_pump_probe\n",
    "plt.fill_between(np.squeeze(Delay_mm), low_err, high_err, color='lightblue')\n",
    "\n",
    "plt.title('t0=' + str(np.round(parameters[2], 5)) + ' mm' )\n",
    "plt.grid()\n",
    "plt.xlabel(\"Position (mm)\")\n",
    "plt.legend(loc=\"best\")\n",
    "plt.show()\n",
    "#plt.savefig(savedir + 'scan_YAG_007')"
   ]
  },
  {
   "cell_type": "markdown",
   "metadata": {},
   "source": [
    "### Define a t0 and time axis for time plots afterwards"
   ]
  },
  {
   "cell_type": "code",
   "execution_count": null,
   "metadata": {
    "collapsed": true
   },
   "outputs": [],
   "source": [
    "t0_Time_air = 163.08795\n",
    "\n",
    "t0_Time_100mbar = 194.6\n",
    "\n",
    "Delay_ps = 2* (Delay_mm - t0_Time_100mbar)*3.333   # factor of 2 in delay due to the delay stage"
   ]
  },
  {
   "cell_type": "markdown",
   "metadata": {},
   "source": [
    " ### Now the fit in time"
   ]
  },
  {
   "cell_type": "code",
   "execution_count": null,
   "metadata": {
    "collapsed": true
   },
   "outputs": [],
   "source": [
    "Delay_ps_toFit = np.copy(Delay_ps.ravel())\n",
    "\n",
    "# Now fit IN TIME with error funciton (defined above)\n",
    "index = ~(np.isnan(Delay_ps_toFit) | np.isnan(Pump_probe_toFit))\n",
    "parameters,extras = curve_fit(errfunc_fwhm, Delay_ps_toFit[index], Pump_probe_toFit[index], p0 = [1.06, 1.076, 0, 100])\n",
    "\n",
    "yFit=[errfunc_fwhm(x, parameters[0],parameters[1],parameters[2],parameters[3]) for x in Delay_ps_toFit]\n",
    "\n",
    "\n",
    "print(\"Position t0 =\",np.round(parameters[2],5)*1000,\"fs\")\n",
    "print(\"Width =\",np.abs(np.round(parameters[3],3))*1000,\"fs\")"
   ]
  },
  {
   "cell_type": "markdown",
   "metadata": {},
   "source": [
    "### Plot the curve vs time with the fit, referenced to t0 defined above"
   ]
  },
  {
   "cell_type": "code",
   "execution_count": null,
   "metadata": {
    "collapsed": true,
    "scrolled": false
   },
   "outputs": [],
   "source": [
    "\n",
    "plt.figure()\n",
    "plt.plot((Delay_ps)*1000, Pump_probe, label=\"0 on the time axis is %s mm\" % t0_Time_air,marker='.')   \n",
    "plt.plot(Delay_ps_toFit*1000, errfunc_fwhm(Delay_ps_toFit,*parameters))\n",
    "plt.plot(label='0 in time is')\n",
    "\n",
    "low_err = Pump_probe - err_pump_probe\n",
    "high_err = Pump_probe + err_pump_probe\n",
    "#plt.fill_between(np.squeeze((Delay_ps)*1000), low_err, high_err, color='lightblue')\n",
    "\n",
    "plt.title(scan_name + \", width = \" + str(np.abs(np.round(parameters[3], 3))*1000) + \" fs\" + \", t0 = \" + str(np.round(parameters[2], 3)*1000) + \" fs\")\n",
    "plt.xlabel(\"Delay (fs)\")\n",
    "plt.legend(loc=\"lower left\")\n",
    "plt.grid()\n",
    "plt.show()\n",
    "#plt.savefig('Timescan_7_diode')"
   ]
  },
  {
   "cell_type": "code",
   "execution_count": null,
   "metadata": {
    "collapsed": true
   },
   "outputs": [],
   "source": [
    "time_zero =  149.6658   #this is in mm from the delay scans (offset of 70 um due to air vs He[100 mbar])\n",
    "\n",
    "desidered_delay = 3        #choose this in ps\n",
    "\n",
    "delay_to_set = (100/(2*333))*desidered_delay + time_zero        #factor of 2 because of the delay stage\n",
    "\n",
    "desidered_delay + time_zero\n",
    "print (\"To be at\",desidered_delay,\"ps, put the laser pump delay stage to\",np.round(delay_to_set,4),\"mm\")"
   ]
  },
  {
   "cell_type": "code",
   "execution_count": null,
   "metadata": {
    "collapsed": true
   },
   "outputs": [],
   "source": [
    "offset_space = 50       # this is in um\n",
    "\n",
    "offset_time = 2*(offset_space * 1e-6)/3e8/1e-15            #factor of 2 because of the delay stage, results in fs\n",
    "print (\"An offset of\",offset_space,\"um corresponds to an offset of\",np.round(offset_time,4),\"fs\")"
   ]
  },
  {
   "cell_type": "code",
   "execution_count": null,
   "metadata": {
    "collapsed": true
   },
   "outputs": [],
   "source": [
    "offset_time = 140      # this is in fs\n",
    "\n",
    "offset_space = 3e8 * (offset_time * 1e-15)/2/1e-6          #factor of 2 because of the delay stage, results in um\n",
    "print (\"An offset of\",offset_time,\"fs corresponds to an offset of\",np.round(offset_space,4),\"um\")"
   ]
  },
  {
   "cell_type": "code",
   "execution_count": null,
   "metadata": {
    "collapsed": true
   },
   "outputs": [],
   "source": [
    "195.2-(105.9-88.35)"
   ]
  },
  {
   "cell_type": "code",
   "execution_count": null,
   "metadata": {
    "collapsed": true
   },
   "outputs": [],
   "source": [
    "# Check if the condition on the intensity makes sense by looking at the total histogram. §\n",
    "\n",
    "Izero_total_1D = np.hstack(Izero_FEL_all)\n",
    "Izero_total_1D_filter = np.hstack(Izero_FEL_all_filter)\n",
    "\n",
    "print (\"Total shots=\",Izero_total_1D.size,\"// filtered=,\",Izero_total_1D_filter.size)\n",
    "plt.figure()\n",
    "\n",
    "### ALL STEPS ###\n",
    "plt.hist(Izero_total_1D_filter, bins = np.arange(0,2,0.01), facecolor='red', alpha=0.5)\n",
    "plt.hist(Izero_total_1D, bins = np.arange(0,2,0.01), facecolor='blue', alpha=0.5)\n",
    "\n",
    "### ONLY THE LAST STEP ###\n",
    "#plt.hist(Izero_FEL, bins = np.arange(0,1.5,0.01), facecolor='blue', alpha=0.5)\n",
    "#plt.hist(Izero_FEL_filter, bins = np.arange(0,1.5,0.01), facecolor='orange', alpha=0.5)\n",
    "\n",
    "plt.xlim(0,2)\n",
    "plt.title(DIR)\n",
    "\n",
    "plt.show()"
   ]
  },
  {
   "cell_type": "code",
   "execution_count": null,
   "metadata": {
    "collapsed": true
   },
   "outputs": [],
   "source": []
  }
 ],
 "metadata": {
  "kernelspec": {
   "display_name": "Python [conda env:alvra-analysis-p18389]",
   "language": "python",
   "name": "conda-env-alvra-analysis-p18389-py"
  },
  "language_info": {
   "codemirror_mode": {
    "name": "ipython",
    "version": 3
   },
   "file_extension": ".py",
   "mimetype": "text/x-python",
   "name": "python",
   "nbconvert_exporter": "python",
   "pygments_lexer": "ipython3",
   "version": "3.6.7"
  }
 },
 "nbformat": 4,
 "nbformat_minor": 2
}
