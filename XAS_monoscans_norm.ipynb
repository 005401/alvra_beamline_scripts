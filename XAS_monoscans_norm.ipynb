{
 "cells": [
  {
   "cell_type": "code",
   "execution_count": null,
   "metadata": {
    "collapsed": true
   },
   "outputs": [],
   "source": [
    "%matplotlib nbagg\n",
    "import numpy as np\n",
    "import json\n",
    "import os\n",
    "from matplotlib import pyplot as plt\n",
    "from scipy.optimize import curve_fit\n",
    "\n",
    "from alvra_tools.load_data import *\n",
    "from alvra_tools.channels import *\n",
    "#from alvra_tools.channels_raw import *\n",
    "from alvra_tools.utils import errfunc_sigma, errfunc_fwhm"
   ]
  },
  {
   "cell_type": "code",
   "execution_count": null,
   "metadata": {
    "scrolled": true
   },
   "outputs": [],
   "source": [
    "#scan_name = \"RuDimerACN_monoscan_0p6ps_020\"\n",
    "scan_name =\"MB_monoscan_12\"\n",
    "#scan_range =\".run002878-002922\"\n",
    "scan_range =\".run002999-003044\"\n",
    "\n",
    "\n",
    "\n",
    "#DIR = \"/sf/alvra/data/p17983/raw/scan_data/\" + scan_name + \"/\"\n",
    "#DIR_json = \"/sf/alvra/data/p17983/res/scan_info/\"\n",
    "\n",
    "DIR = \"/sf/alvra/data/p18442/raw/scan_data/\" + scan_name + \"/\"\n",
    "DIR_json = \"/sf/alvra/data/p18442/res/scan_info/\"\n",
    "#DIR = \"/das/work/p17/p17983/Example_data/raw/scan_data/\" + scan_name + \"/\"\n",
    "#DIR_json = \"/das/work/p17/p17983/Example_data/res/scan_info/\"\n",
    "\n",
    "\n",
    "!ls -lah -rt $DIR\n",
    "!hostname\n",
    "\n",
    "listfile = os.listdir(DIR)\n",
    "number_files = len(listfile)\n",
    "print (\"There are\",number_files,\"files in the folder\", DIR)\n"
   ]
  },
  {
   "cell_type": "markdown",
   "metadata": {},
   "source": [
    "# Load one step and filter some data from I0"
   ]
  },
  {
   "cell_type": "code",
   "execution_count": null,
   "metadata": {},
   "outputs": [],
   "source": [
    "#f =\"RuDimerACN_monoscan_0p6ps_018_step0003.BSREAD.h5\"\n",
    "f =\"run_002999.BSREAD.h5\"\n",
    "fn = DIR + f\n",
    "\n",
    "(DataFluo_pump_shot, DataFluo_unpump_shot, IzeroFEL_pump_shot, IzeroFEL_unpump_shot, Energy_shot, \\\n",
    " DataTrans_pump_shot, DataTrans_unpump_shot) = load_PumpProbe_events(fn, channel_energy)\n",
    "\n",
    "IzeroFEL_pump_original = IzeroFEL_pump_shot.copy()\n",
    "IzeroFEL_unpump_original = IzeroFEL_unpump_shot.copy()\n",
    "print (np.median(IzeroFEL_pump_shot))# - 2*(np.std(IzeroFEL_pump_shot)))\n",
    "\n",
    "conditionPumpMax = IzeroFEL_pump_shot < np.median(IzeroFEL_pump_shot)+3*(np.std(IzeroFEL_pump_shot))\n",
    "conditionPumpMin = IzeroFEL_pump_shot > np.median(IzeroFEL_pump_shot)-3*(np.std(IzeroFEL_pump_shot))\n",
    "\n",
    "conditionUnPumpMax = IzeroFEL_unpump_shot < np.median(IzeroFEL_unpump_shot)+3*(np.std(IzeroFEL_unpump_shot))\n",
    "conditionUnPumpMin = IzeroFEL_unpump_shot > np.median(IzeroFEL_unpump_shot)-3*(np.std(IzeroFEL_unpump_shot))\n",
    "\n",
    "conditionGeneral = IzeroFEL_pump_shot > 0.001\n",
    "conditionGeneral2 = IzeroFEL_unpump_shot > 0.001\n",
    "\n",
    "IzeroFEL_pump_shot = IzeroFEL_pump_shot[conditionPumpMin & conditionPumpMax & conditionUnPumpMin & conditionUnPumpMax & conditionGeneral & conditionGeneral2]\n",
    "IzeroFEL_unpump_shot = IzeroFEL_unpump_shot[conditionPumpMin & conditionPumpMax & conditionUnPumpMin & conditionUnPumpMax & conditionGeneral & conditionGeneral2]\n",
    "\n",
    "#Izero_pump_loop = [x for x in Izero_unpump_loop if (np.abs(x) > 1000)]\n",
    "\n",
    "IzeroFEL_pump_shot = np.asarray(IzeroFEL_pump_shot)\n",
    "IzeroFEL_pump_original = np.asarray(IzeroFEL_pump_original)\n",
    "\n",
    "print (IzeroFEL_pump_original.shape, IzeroFEL_unpump_original.shape)\n",
    "print (IzeroFEL_pump_shot.shape, IzeroFEL_unpump_shot.shape)\n",
    "\n"
   ]
  },
  {
   "cell_type": "code",
   "execution_count": null,
   "metadata": {},
   "outputs": [],
   "source": [
    "#num_bins = 100\n",
    "plt.figure()\n",
    "plt.hist(DataFluo_pump_shot, bins =np.arange(-0.85,0.85,0.01), facecolor='red', alpha=0.5)\n",
    "print (np.median(DataFluo_pump_shot))\n",
    "#plt.hist(IzeroFEL_pump_shot, bins =np.arange(0,0.85,0.01), facecolor='blue', alpha=0.5)\n",
    "#plt.hist(Izero_unpump_original, bins =np.arange(0,15000,100), facecolor='blue', alpha=0.5)\n",
    "\n",
    "plt.title(DIR)\n",
    "plt.show()\n",
    "#print (IzeroFEL_pump_original.size, IzeroFEL_pump_shot.size)"
   ]
  },
  {
   "cell_type": "code",
   "execution_count": null,
   "metadata": {},
   "outputs": [],
   "source": [
    "#num_bins = 100\n",
    "plt.figure()\n",
    "plt.hist(IzeroFEL_pump_original, bins =np.arange(0,0.85,0.01), facecolor='red', alpha=0.5)\n",
    "plt.hist(IzeroFEL_pump_shot, bins =np.arange(0,0.85,0.01), facecolor='blue', alpha=0.5)\n",
    "#plt.hist(Izero_unpump_original, bins =np.arange(0,15000,100), facecolor='blue', alpha=0.5)\n",
    "\n",
    "plt.title(DIR)\n",
    "plt.show()\n",
    "print (IzeroFEL_pump_original.size, IzeroFEL_pump_shot.size)"
   ]
  },
  {
   "cell_type": "markdown",
   "metadata": {},
   "source": [
    "# Load mono scan"
   ]
  },
  {
   "cell_type": "code",
   "execution_count": null,
   "metadata": {
    "scrolled": true
   },
   "outputs": [],
   "source": [
    "#json_file = DIR_json + scan_name + \"_scan_info.json\"\n",
    "json_file = DIR_json + scan_name + scan_range + \".json\"\n",
    "print (json_file)\n",
    "\n",
    "with open(json_file) as file:\n",
    "    data = json.load(file)\n",
    "numFiles = len(data['scan_files'])\n",
    "#numFiles = 35\n",
    "\n",
    "print (\"Processing\",numFiles,\"files\")\n",
    "\n",
    "DataFluo_pump = []\n",
    "DataFluo_unpump = []\n",
    "err_DataFluo_pump = []\n",
    "err_DataFluo_unpump = []\n",
    "\n",
    "DataTrans_pump = []\n",
    "DataTrans_unpump = []\n",
    "err_DataTrans_pump = []\n",
    "err_DataTrans_unpump = []\n",
    "\n",
    "Pump_probe = []\n",
    "err_Pump_probe = []\n",
    "\n",
    "Energy_eV = []\n",
    "\n",
    "\n",
    "# from itertools import chain\n",
    "# concatenated = chain(range(0,37), range(43, 50))\n",
    "# for i in concatenated:\n",
    "for i in range(0,numFiles):             \n",
    "    filename = str(data['scan_files'][i][0])    \n",
    "    exists = os.path.isfile(filename)\n",
    "    if exists: #and i!=0:\n",
    "        print(\"step\",i+1,\"of\",numFiles,\": Processing %s\" %(str(data['scan_files'][i][0])))\n",
    "        \n",
    "        (DataFluo_pump_shot, DataFluo_unpump_shot, IzeroFEL_pump_shot, IzeroFEL_unpump_shot, Energy_shot, \\\n",
    "         DataTrans_pump_shot, DataTrans_unpump_shot) = load_PumpProbe_events(filename, channel_energy)\n",
    "        \n",
    "        print (\"Loaded {} shots\".format(len(DataFluo_pump_shot)))\n",
    "        \n",
    "        threshold_pump = IzeroFEL_pump_shot > 0.05\n",
    "        threshold_unpump = IzeroFEL_unpump_shot > 0.05\n",
    "        condition_pump = IzeroFEL_pump_shot > np.median(IzeroFEL_pump_shot)-3*(np.std(IzeroFEL_pump_shot))\n",
    "        condition_unpump = IzeroFEL_unpump_shot > np.median(IzeroFEL_unpump_shot)-3*(np.std(IzeroFEL_unpump_shot))\n",
    "        condition_fluoPump = DataFluo_pump_shot > 0.001\n",
    "        condition_fluoUnPump = DataFluo_unpump_shot > 0.001\n",
    "\n",
    "        DataFluo_pump_shot = DataFluo_pump_shot[condition_pump & condition_unpump & threshold_pump & threshold_unpump & condition_fluoPump & condition_fluoUnPump]\n",
    "        IzeroFEL_pump_shot = IzeroFEL_pump_shot[condition_pump & condition_unpump & threshold_pump & threshold_unpump & condition_fluoPump & condition_fluoUnPump]\n",
    "        DataTrans_pump_shot = DataTrans_pump_shot[condition_pump & condition_unpump & threshold_pump & threshold_unpump & condition_fluoPump & condition_fluoUnPump]\n",
    "              \n",
    "        DataFluo_unpump_shot = DataFluo_unpump_shot[condition_pump & condition_unpump & threshold_pump & threshold_unpump & condition_fluoPump & condition_fluoUnPump]\n",
    "        IzeroFEL_unpump_shot = IzeroFEL_unpump_shot[condition_pump & condition_unpump & threshold_pump & threshold_unpump & condition_fluoPump & condition_fluoUnPump]\n",
    "        DataTrans_unpump_shot = DataTrans_unpump_shot[condition_pump & condition_unpump & threshold_pump & threshold_unpump & condition_fluoPump & condition_fluoUnPump]\n",
    "    \n",
    "        print (\"survived {} shots\".format(len(DataFluo_pump_shot))) \n",
    "        \n",
    "        DataFluo_pump_shot_norm = DataFluo_pump_shot / IzeroFEL_pump_shot\n",
    "        DataFluo_unpump_shot_norm = DataFluo_unpump_shot / IzeroFEL_unpump_shot\n",
    "        DataTrans_pump_shot_norm = DataTrans_pump_shot / IzeroFEL_pump_shot\n",
    "        DataTrans_unpump_shot_norm = DataTrans_unpump_shot / IzeroFEL_unpump_shot\n",
    "              \n",
    "        Pump_probe_shot = DataFluo_pump_shot_norm - DataFluo_unpump_shot_norm\n",
    "        \n",
    "        DataFluo_pump.append(DataFluo_pump_shot_norm.mean())\n",
    "        DataFluo_unpump.append(DataFluo_unpump_shot_norm.mean())\n",
    "        DataTrans_pump.append(DataTrans_pump_shot_norm.mean())\n",
    "        DataTrans_unpump.append(DataTrans_unpump_shot_norm.mean())\n",
    "        \n",
    "        Pump_probe.append(Pump_probe_shot.mean())\n",
    "        \n",
    "        err_DataFluo_pump.append(DataFluo_pump_shot_norm.std()/np.sqrt(DataFluo_pump_shot_norm.size))\n",
    "        err_DataFluo_unpump.append(DataFluo_unpump_shot_norm.std()/np.sqrt(DataFluo_unpump_shot_norm.size))\n",
    "        err_DataTrans_pump.append(DataTrans_pump_shot_norm.std()/np.sqrt(DataTrans_pump_shot_norm.size))\n",
    "        err_DataTrans_unpump.append(DataTrans_unpump_shot_norm.std()/np.sqrt(DataTrans_unpump_shot_norm.size))\n",
    "              \n",
    "        err_Pump_probe.append(Pump_probe_shot.std()/np.sqrt(Pump_probe_shot.size))\n",
    "        \n",
    "        \n",
    "   #     Energy_eV.append()\n",
    "        Energy_shot = [x for x in Energy_shot if (np.abs(x) > 0)]\n",
    "        Energy_eV.append(np.mean(Energy_shot))\n",
    "    \n",
    "DataFluo_pump = np.asarray(DataFluo_pump)\n",
    "DataFluo_unpump = np.asarray(DataFluo_unpump)\n",
    "DataTrans_pump = np.asarray(DataTrans_pump)\n",
    "DataTrans_unpump = np.asarray(DataTrans_unpump)\n",
    "              \n",
    "Pump_probe = np.asarray(Pump_probe)\n",
    "err_Pump_probe = np.asarray(err_Pump_probe)\n",
    "              \n",
    "err_DataFluo_pump = np.asarray(err_DataFluo_pump)\n",
    "err_DataFluo_unpump = np.asarray(err_DataFluo_unpump)\n",
    "err_DataTrans_pump = np.asarray(err_DataTrans_pump)\n",
    "err_DataTrans_unpump = np.asarray(err_DataTrans_unpump)\n",
    "            \n",
    "Energy_eV = np.asarray(Energy_eV)\n",
    "\n",
    "print (\"Job done!\")\n"
   ]
  },
  {
   "cell_type": "markdown",
   "metadata": {},
   "source": [
    "# Plot energy scans"
   ]
  },
  {
   "cell_type": "code",
   "execution_count": null,
   "metadata": {
    "scrolled": false
   },
   "outputs": [],
   "source": [
    "plt.figure(figsize = (10,5))\n",
    "plt.suptitle(DIR, fontsize=12)\n",
    "scale=1\n",
    "#plt.title(DIR,horizontalalignment='right')\n",
    "\n",
    "Pump_probe = (DataFluo_pump - DataFluo_unpump) / DataFluo_unpump\n",
    "\n",
    "offset_corr_DataFluo_pump = scale*DataFluo_pump# - np.mean(scale*DataFluo_pump[:5])\n",
    "offset_corr_DataFluo_unpump = scale*DataFluo_unpump# - np.mean(scale*DataFluo_unpump[:5])\n",
    "offset_corr_pump_probe = offset_corr_DataFluo_pump - offset_corr_DataFluo_unpump\n",
    "\n",
    "low_err_pump_offset       = offset_corr_DataFluo_pump - err_DataFluo_pump\n",
    "high_err_pump_offset      = offset_corr_DataFluo_pump + err_DataFluo_pump\n",
    "low_err_unpump_offset     = offset_corr_DataFluo_unpump - err_DataFluo_unpump\n",
    "high_err_unpump_offset    = offset_corr_DataFluo_unpump + err_DataFluo_unpump\n",
    "low_err_pumpprobe_offset  = (Pump_probe) - np.sqrt(err_DataFluo_pump**2+err_DataFluo_unpump**2)\n",
    "high_err_pumpprobe_offset = (Pump_probe) + np.sqrt(err_DataFluo_pump**2+err_DataFluo_unpump**2)\n",
    "\n",
    "low_err_pump = DataFluo_pump - err_DataFluo_pump\n",
    "high_err_pump = DataFluo_pump + err_DataFluo_pump\n",
    "low_err_unpump = DataFluo_unpump - err_DataFluo_unpump\n",
    "high_err_unpump = DataFluo_unpump + err_DataFluo_unpump\n",
    "low_err_pumpprobe = (Pump_probe) - np.sqrt(err_DataFluo_pump**2+err_DataFluo_unpump**2)\n",
    "high_err_pumpprobe = (Pump_probe) + np.sqrt(err_DataFluo_pump**2+err_DataFluo_unpump**2)\n",
    "\n",
    "plt.subplot(1,2,1)\n",
    "plt.plot(Energy_eV, offset_corr_DataFluo_unpump, label=\"OFF - offsetOFF\",marker='.')\n",
    "plt.plot(Energy_eV, offset_corr_DataFluo_pump, label=\"ON - offsetON\",marker='.')\n",
    "plt.plot(Energy_eV, offset_corr_pump_probe, label='pump-probe', marker='.')\n",
    "plt.fill_between(Energy_eV, scale*low_err_pump_offset, scale*high_err_pump_offset, color='navajowhite')\n",
    "plt.fill_between(Energy_eV, scale*low_err_unpump_offset, scale*high_err_unpump_offset, color='lightblue')\n",
    "#plt.fill_between(Energy_eV, scale*low_err_pumpprobe_offset, scale*high_err_pumpprobe_offset, color='lightblue')\n",
    "plt.xlabel(\"Energy (eV)\")\n",
    "plt.ylabel (\"Pump probe signal (diff)\")\n",
    "plt.gca().set_title('XAS (fluo)')\n",
    "plt.legend(loc=\"best\")\n",
    "plt.grid()\n",
    "\n",
    "# plt.subplot(1,2,1)\n",
    "# plt.plot(Energy_eV, scale*DataFluo_pump, label=\"ON\",marker='.')\n",
    "# plt.plot(Energy_eV, scale*DataFluo_unpump, label=\"OFF\",marker='.')\n",
    "# plt.fill_between(Energy_eV, scale*low_err_pump, scale*high_err_pump, color='lightblue')\n",
    "# plt.fill_between(Energy_eV, scale*low_err_unpump, scale*high_err_unpump, color='navajowhite')\n",
    "# plt.xlabel(\"Energy (eV)\")\n",
    "# plt.gca().set_title('XAS (fluo)')\n",
    "# plt.legend(loc=\"best\")\n",
    "\n",
    "plt.subplot(1,2,2)\n",
    "plt.plot(Energy_eV, scale*(Pump_probe), label=\"pump-probe\",marker='.')\n",
    "plt.fill_between(Energy_eV, scale*low_err_pumpprobe, scale*high_err_pumpprobe, color='lightblue')\n",
    "plt.grid()\n",
    "plt.ylabel (\"Pump probe signal (%)\")\n",
    "plt.xlabel(\"Energy  (eV)\")\n",
    "plt.gca().set_title('Pump-probe vs Energy')\n",
    "plt.legend(loc=\"best\")\n",
    "plt.legend(loc=\"best\")\n",
    "plt.subplots_adjust(wspace = 0.3,hspace = 0.5) \n",
    "\n",
    "plt.show()"
   ]
  },
  {
   "cell_type": "code",
   "execution_count": null,
   "metadata": {},
   "outputs": [],
   "source": [
    "print(np.sum(np.abs(Pump_probe)),np.std(np.abs(Pump_probe)))"
   ]
  },
  {
   "cell_type": "code",
   "execution_count": null,
   "metadata": {
    "collapsed": true
   },
   "outputs": [],
   "source": []
  },
  {
   "cell_type": "markdown",
   "metadata": {},
   "source": [
    "# Summing scans"
   ]
  },
  {
   "cell_type": "code",
   "execution_count": null,
   "metadata": {
    "collapsed": true
   },
   "outputs": [],
   "source": [
    "#Pump_probe_37=Pump_probe.copy()\n",
    "#err_Pump_probe_37=err_Pump_probe.copy()\n",
    "#Pump_probe_38=Pump_probe.copy()\n",
    "#err_Pump_probe_38=err_Pump_probe.copy()\n",
    "#Pump_probe_39=Pump_probe.copy()\n",
    "#err_Pump_probe_39=err_Pump_probe.copy()\n",
    "#Pump_probe_40=Pump_probe.copy()\n",
    "#err_Pump_probe_40=err_Pump_probe.copy()\n",
    "\n",
    "#Pump_probe_22=Pump_probe.copy()\n",
    "#err_Pump_probe_22=err_Pump_probe.copy()\n",
    "#Pump_probe_24=Pump_probe.copy()\n",
    "#err_Pump_probe_24=err_Pump_probe.copy()\n",
    "#Pump_probe_25=Pump_probe.copy()\n",
    "#err_Pump_probe_25=err_Pump_probe.copy()\n",
    "\n",
    "#Pump_probe_41=Pump_probe.copy()\n",
    "#err_Pump_probe_41=err_Pump_probe.copy()\n",
    "#Pump_probe_42=Pump_probe.copy()\n",
    "#err_Pump_probe_42=err_Pump_probe.copy()\n",
    "#Pump_probe_43=Pump_probe.copy()\n",
    "#err_Pump_probe_43=err_Pump_probe.copy()\n",
    "#Pump_probe_44=Pump_probe.copy()\n",
    "#err_Pump_probe_44=err_Pump_probe.copy()\n",
    "\n",
    "\n",
    "#Pump_probe_34=Pump_probe.copy()\n",
    "#err_Pump_probe_34=err_Pump_probe.copy()\n",
    "#Pump_probe_35=Pump_probe.copy()\n",
    "#err_Pump_probe_35=err_Pump_probe.copy()\n",
    "#Pump_probe_36=Pump_probe.copy()\n",
    "#err_Pump_probe_36=err_Pump_probe.copy()\n",
    "\n",
    "#Pump_probe_28=Pump_probe.copy()\n",
    "#err_Pump_probe_28=err_Pump_probe.copy()\n",
    "#Pump_probe_32=Pump_probe.copy()\n",
    "#err_Pump_probe_32=err_Pump_probe.copy()\n",
    "#Pump_probe_36=Pump_probe.copy()\n",
    "#err_Pump_probe_36=err_Pump_probe.copy()\n",
    "#\n",
    "#Pump_probe_02=Pump_probe.copy()\n",
    "#err_Pump_probe_02=err_Pump_probe.copy()\n",
    "#Pump_probe_01=Pump_probe.copy()\n",
    "#err_Pump_probe_01=err_Pump_probe.copy()\n",
    "Pump_probe_03=Pump_probe.copy()\n",
    "err_Pump_probe_03=err_Pump_probe.copy()\n"
   ]
  },
  {
   "cell_type": "code",
   "execution_count": null,
   "metadata": {},
   "outputs": [],
   "source": [
    "plt.figure(figsize = (10,5))\n",
    "plt.plot(Energy_eV, scale*(Pump_probe_01), label=\"200 mJ 5 ps\",marker='.')\n",
    "plt.plot(Energy_eV, scale*(Pump_probe_02), label=\"130 mJ 0.1 ps\",marker='.')\n",
    "plt.xlabel(\"Energy  (eV)\")\n",
    "plt.grid()\n",
    "plt.gca().set_title('Pump-probe vs Energy')\n",
    "plt.legend(loc=\"best\")\n",
    "plt.legend(loc=\"best\")\n",
    "plt.show()"
   ]
  },
  {
   "cell_type": "code",
   "execution_count": null,
   "metadata": {
    "collapsed": true
   },
   "outputs": [],
   "source": [
    "Pump_probe_sum=Pump_probe_37 + Pump_probe_38 + Pump_probe_39 +  Pump_probe_40\n",
    "err_Pump_probe_sum=np.sqrt((err_Pump_probe_37)**2 + (err_Pump_probe_38)**2 + (err_Pump_probe_39)**2 + (err_Pump_probe_40)**2)\n",
    "\n",
    "Pump_probe_sum_new=Pump_probe_41 + Pump_probe_42 + Pump_probe_43 + Pump_probe_44\n",
    "err_Pump_probe_sum_new=np.sqrt((err_Pump_probe_41)**2 + (err_Pump_probe_42)**2 + (err_Pump_probe_43)**2 + (err_Pump_probe_44)**2)\n",
    "\n",
    "Pump_probe_sum_old=Pump_probe_22 + Pump_probe_24 + Pump_probe_25\n",
    "err_Pump_probe_sum_old=np.sqrt((err_Pump_probe_22)**2 + (err_Pump_probe_24)**2 + (err_Pump_probe_25)**2)\n",
    "\n",
    "Pump_probe_sum_all=Pump_probe_37 + Pump_probe_38 + Pump_probe_39 +  Pump_probe_40 + Pump_probe_41 + Pump_probe_42 + Pump_probe_43 + Pump_probe_44\n",
    "err_Pump_probe_sum_all=np.sqrt((err_Pump_probe_37)**2 + (err_Pump_probe_38)**2 + (err_Pump_probe_39)**2 + (err_Pump_probe_40)**2+(err_Pump_probe_41)**2 + (err_Pump_probe_42)**2 + (err_Pump_probe_43)**2 + (err_Pump_probe_44)**2)\n",
    "\n",
    "\n",
    "Pump_probe_sum_all_77uJ=Pump_probe_34 + Pump_probe_35 + Pump_probe_36 \n",
    "err_Pump_probe_sum_all_77uJ=np.sqrt((err_Pump_probe_34)**2 + (err_Pump_probe_35)**2 + (err_Pump_probe_36)**2 )\n",
    "\n",
    "Pump_probe_sum_all_30uJ=Pump_probe_28 + Pump_probe_31 + Pump_probe_32\n",
    "err_Pump_probe_sum_all_30uJ=np.sqrt((err_Pump_probe_28)**2 + (err_Pump_probe_31)**2 + (err_Pump_probe_32)**2 )\n",
    "\n",
    "Pump_probe_sum_all_highF=Pump_probe_28 + Pump_probe_31 + Pump_probe_32\n",
    "err_Pump_probe_sum_all_30uJ=np.sqrt((err_Pump_probe_28)**2 + (err_Pump_probe_31)**2 + (err_Pump_probe_32)**2 )"
   ]
  },
  {
   "cell_type": "markdown",
   "metadata": {},
   "source": [
    "## Plotting sumed scans"
   ]
  },
  {
   "cell_type": "code",
   "execution_count": null,
   "metadata": {
    "collapsed": true
   },
   "outputs": [],
   "source": [
    "scale = 1/8\n",
    "plt.figure(figsize = (10,5))\n",
    "plt.suptitle('sum 41-44 vrs. 37-40' , fontsize=12)\n",
    "plt.subplot(1,2,1)\n",
    "plt.plot()\n",
    "plt.plot(Energy_eV, scale*(Pump_probe_sum_all), label=\"pump-probe_sum_all\",marker='.')\n",
    "low_err_pumpprobe_sum_all = Pump_probe_sum_all - err_Pump_probe_sum_all \n",
    "high_err_pumpprobe_sum_all = Pump_probe_sum_all + err_Pump_probe_sum_all \n",
    "plt.fill_between(Energy_eV, scale*low_err_pumpprobe_sum_all, scale*high_err_pumpprobe_sum_all, color='lightblue')\n",
    "scale = 1/3\n",
    "plt.plot(Energy_eV, scale*(Pump_probe_sum_all_77uJ), label=\"pump-probe_sum_all_77uJ\",marker='.')\n",
    "low_err_pumpprobe_sum_all = Pump_probe_sum_all_77uJ - err_Pump_probe_sum_all_77uJ \n",
    "high_err_pumpprobe_sum_all = Pump_probe_sum_all_77uJ + err_Pump_probe_sum_all_77uJ \n",
    "plt.fill_between(Energy_eV, scale*low_err_pumpprobe_sum_all, scale*high_err_pumpprobe_sum_all, color='lightblue')\n",
    "scale = 1/3\n",
    "plt.plot(Energy_eV, scale*(Pump_probe_sum_all_30uJ), label=\"pump-probe_sum_all_30uJ\",marker='.')\n",
    "low_err_pumpprobe_sum_all = Pump_probe_sum_all_30uJ - err_Pump_probe_sum_all_30uJ \n",
    "high_err_pumpprobe_sum_all = Pump_probe_sum_all_30uJ + err_Pump_probe_sum_all_30uJ \n",
    "plt.fill_between(Energy_eV, scale*low_err_pumpprobe_sum_all, scale*high_err_pumpprobe_sum_all, color='lightblue')\n",
    "#scale = 1/4\n",
    "#plt.plot(Energy_eV, scale*(Pump_probe_sum_new), label=\"pump-probe_sum_41-44\",marker='.')\n",
    "#low_err_pumpprobe_sum_new = Pump_probe_sum_new - err_Pump_probe_sum_new \n",
    "#high_err_pumpprobe_sum_new = Pump_probe_sum_new + err_Pump_probe_sum_new \n",
    "\n",
    "#plt.fill_between(Energy_eV, scale*low_err_pumpprobe_sum_new, scale*high_err_pumpprobe_sum_new, color='lightblue')\n",
    "plt.grid()\n",
    "\n",
    "plt.xlabel(\"Energy  (eV)\")\n",
    "plt.gca().set_title('Pump-probe vs Energy')\n",
    "plt.legend(loc=\"best\")\n",
    "plt.legend(loc=\"best\")\n",
    "plt.show()\n",
    "\n",
    "plt.subplot(1,2,2)\n",
    "plt.plot(Energy_eV, scale*(Pump_probe_41), label=\"41\",marker='.')\n",
    "plt.plot(Energy_eV, scale*(Pump_probe_42), label=\"42\",marker='.')\n",
    "plt.plot(Energy_eV, scale*(Pump_probe_43), label=\"43\",marker='.')\n",
    "plt.plot(Energy_eV, scale*(Pump_probe_44), label=\"44\",marker='.')\n",
    "\n",
    "\n",
    "#low_err_pumpprobe_25 = Pump_probe_25 - err_Pump_probe_25 \n",
    "#high_err_pumpprobe_25 = Pump_probe_25 + err_Pump_probe_25 \n",
    "#plt.fill_between(Energy_eV, scale*low_err_pumpprobe_25, scale*high_err_pumpprobe_25, color='lightblue')\n",
    "plt.grid()\n",
    "\n",
    "plt.legend(loc=\"best\")\n",
    "\n"
   ]
  },
  {
   "cell_type": "code",
   "execution_count": null,
   "metadata": {
    "collapsed": true
   },
   "outputs": [],
   "source": [
    "Pump_probe_15uJ = Pump_probe.copy()\n",
    "DataFluo_pump_15uJ = DataFluo_pump.copy()\n",
    "DataFluo_unpump_15uJ = DataFluo_unpump.copy()"
   ]
  },
  {
   "cell_type": "code",
   "execution_count": null,
   "metadata": {
    "collapsed": true
   },
   "outputs": [],
   "source": [
    "import pandas as pd\n",
    "DIR_save = \"/das/work/p17/p17589/Extract_data_MbNo/\"\n",
    "file2save = DIR_save + scan_name + \".txt\"\n",
    "pd.DataFrame({\n",
    "    'pump_probe': Pump_probe_15uJ,\n",
    "    'signal_on' : DataFluo_pump_15uJ,\n",
    "    'signal_off' : DataFluo_unpump_15uJ,\n",
    "}).to_csv(file2save,index=False)"
   ]
  },
  {
   "cell_type": "code",
   "execution_count": null,
   "metadata": {
    "collapsed": true
   },
   "outputs": [],
   "source": [
    "plt.figure(figsize = (10,5))\n",
    "plt.suptitle(DIR, fontsize=12)\n",
    "scale=1\n",
    "#plt.title(DIR,horizontalalignment='right')\n",
    "low_err_pump = DataTrans_pump - err_DataTrans_pump\n",
    "high_err_pump = DataTrans_pump + err_DataTrans_pump\n",
    "low_err_unpump = DataTrans_unpump - err_DataTrans_unpump\n",
    "high_err_unpump = DataTrans_unpump + err_DataTrans_unpump\n",
    "low_err_pumpprobe = (Pump_probe) - np.sqrt(err_DataTrans_pump**2+err_DataTrans_unpump**2)\n",
    "high_err_pumpprobe = (Pump_probe) + np.sqrt(err_DataTrans_pump**2+err_DataTrans_unpump**2)\n",
    "\n",
    "plt.subplot(1,2,1)\n",
    "plt.plot(Energy_eV, scale*DataTrans_pump, label=\"ON\",marker='.')\n",
    "plt.plot(Energy_eV, scale*DataTrans_unpump, label=\"OFF\",marker='.')\n",
    "plt.fill_between(Energy_eV, scale*low_err_pump, scale*high_err_pump, color='lightblue')\n",
    "plt.fill_between(Energy_eV, scale*low_err_unpump, scale*high_err_unpump, color='navajowhite')\n",
    "plt.xlabel(\"Energy (eV)\")\n",
    "plt.gca().set_title('XAS (Trans)')\n",
    "plt.legend(loc=\"best\")\n",
    "\n",
    "plt.subplot(1,2,2)\n",
    "plt.plot(Energy_eV, scale*(Pump_probe), label=\"pump-probe\",marker='.')\n",
    "plt.fill_between(Energy_eV, scale*low_err_pumpprobe, scale*high_err_pumpprobe, color='lightblue')\n",
    "plt.grid()\n",
    "plt.xlabel(\"Energy  (eV)\")\n",
    "plt.gca().set_title('Pump-probe vs Energy')\n",
    "plt.legend(loc=\"best\")\n",
    "plt.legend(loc=\"best\")\n",
    "plt.subplots_adjust(wspace = 0.3,hspace = 0.5) \n",
    "\n",
    "plt.show()"
   ]
  },
  {
   "cell_type": "code",
   "execution_count": null,
   "metadata": {
    "collapsed": true
   },
   "outputs": [],
   "source": [
    "plt.figure()\n",
    "plt.hist(IzeroFEL_pump_shot, bins =np.arange(0,0.2,0.002), facecolor='red', alpha=0.5)\n",
    "plt.hist(IzeroFEL_unpump_shot, bins =np.arange(0,0.2,0.002), facecolor='blue', alpha=0.5)\n",
    "#plt.hist(Izero_unpump_original, bins =np.arange(0,15000,100), facecolor='blue', alpha=0.5)\n",
    "\n",
    "plt.show()\n",
    "print (IzeroFEL_pump_original.size, IzeroFEL_pump_shot.size)"
   ]
  },
  {
   "cell_type": "code",
   "execution_count": null,
   "metadata": {
    "collapsed": true
   },
   "outputs": [],
   "source": [
    "energylist=np.concatenate((np.arange(2852,2848-1,-1), np.arange(2847,2845.5-.5,-0.5),np.arange(2845,2835.25-.25,-0.25),np.arange(2835,2834.5-.5,-0.5),np.arange(2834,2831-1,-1)))"
   ]
  },
  {
   "cell_type": "code",
   "execution_count": null,
   "metadata": {
    "collapsed": true
   },
   "outputs": [],
   "source": [
    "print(energylist)"
   ]
  },
  {
   "cell_type": "code",
   "execution_count": null,
   "metadata": {
    "collapsed": true
   },
   "outputs": [],
   "source": [
    "delaylist=np.concatenate((np.arange(-1e-12,3e-12+0.25e-12,0.25e-12), np.arange(3.5e-12,10e-12+.5e-12,0.5e-12),np.arange(15e-12,50e-12+5e-12,5e-12)))\n",
    "print(delaylist)"
   ]
  },
  {
   "cell_type": "code",
   "execution_count": null,
   "metadata": {
    "collapsed": true
   },
   "outputs": [],
   "source": []
  },
  {
   "cell_type": "code",
   "execution_count": null,
   "metadata": {
    "collapsed": true
   },
   "outputs": [],
   "source": []
  }
 ],
 "metadata": {
  "kernelspec": {
   "display_name": "Python [conda env:alvra-analysis]",
   "language": "python",
   "name": "conda-env-alvra-analysis-py"
  },
  "language_info": {
   "codemirror_mode": {
    "name": "ipython",
    "version": 3
   },
   "file_extension": ".py",
   "mimetype": "text/x-python",
   "name": "python",
   "nbconvert_exporter": "python",
   "pygments_lexer": "ipython3",
   "version": "3.6.7"
  }
 },
 "nbformat": 4,
 "nbformat_minor": 2
}
