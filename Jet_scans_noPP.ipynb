{
 "cells": [
  {
   "cell_type": "code",
   "execution_count": null,
   "metadata": {
    "collapsed": true
   },
   "outputs": [],
   "source": [
    "%matplotlib nbagg\n",
    "import numpy as np\n",
    "import json\n",
    "import os\n",
    "from matplotlib import pyplot as plt\n",
    "from scipy.optimize import curve_fit\n",
    "\n",
    "from alvra_tools import *\n",
    "from alvra_tools.utils import errfunc_sigma, errfunc_fwhm\n",
    "from alvra_tools.channels import *"
   ]
  },
  {
   "cell_type": "code",
   "execution_count": null,
   "metadata": {
    "collapsed": true
   },
   "outputs": [],
   "source": [
    "scan_name =\"MB_jetscan_19\"\n",
    "scan_range =\".run002940-002950\"\n",
    "\n",
    "\n",
    "DIR = \"/sf/alvra/data/p18442/raw/scan_data/\" + scan_name + \"/\"\n",
    "DIR_json = \"/sf/alvra/data/p18442/res/scan_info/\""
   ]
  },
  {
   "cell_type": "code",
   "execution_count": null,
   "metadata": {
    "scrolled": true
   },
   "outputs": [],
   "source": [
    "!ls -lah -rt $DIR\n",
    "!hostname\n",
    "\n",
    "listfile = os.listdir(DIR)\n",
    "number_files = len(listfile)\n",
    "print (\"There are\",number_files,\"files in the folder\", DIR)"
   ]
  },
  {
   "cell_type": "code",
   "execution_count": null,
   "metadata": {},
   "outputs": [],
   "source": [
    "#json_file = DIR_json + scan_name + \"_scan_info.json\"\n",
    "json_file = DIR_json + scan_name + scan_range + \".json\"\n",
    "\n",
    "print (json_file)\n",
    "\n",
    "with open(json_file) as file:\n",
    "    data = json.load(file)\n",
    "numFiles = len(data['scan_files'])\n",
    "#numFiles = 17\n",
    "\n",
    "print (\"Processing\",numFiles,\"files\")\n",
    "\n",
    "Signal_trans = []\n",
    "err_Signal_trans = []\n",
    "\n",
    "Signal_fluo = []\n",
    "err_Signal_fluo = []\n",
    "\n",
    "Position_mm = []\n",
    "\n",
    "\n",
    "for i in range(0,numFiles):\n",
    "    filename = str(data['scan_files'][i][0])\n",
    "    exists = os.path.isfile(filename)\n",
    "    if exists: #(and i!=3):\n",
    "        print(\"step\",i+1,\"of\",numFiles,\": Processing %s\" % (str(data['scan_files'][i][0])))\n",
    "        \n",
    "        (data_t_shot, data_f_shot, Izero_shot, laser_shot, position_shot, pulseIDs) = \\\n",
    "        load_FEL_scans(filename, channel_position_X)\n",
    "        \n",
    "        data_t_shot_norm = data_t_shot / Izero_shot\n",
    "        data_f_shot_norm = data_f_shot / Izero_shot\n",
    "        \n",
    "        Signal_trans.append(data_t_shot_norm.mean())\n",
    "        err_Signal_trans.append(data_t_shot_norm.std()/np.sqrt(data_t_shot_norm.size))\n",
    "        \n",
    "        Signal_fluo.append(data_f_shot_norm.mean())\n",
    "        err_Signal_fluo.append(data_f_shot_norm.std()/np.sqrt(data_f_shot_norm.size))\n",
    "    \n",
    "        position_shot = [x for x in position_shot if (np.abs(x) > 0)]\n",
    "        Position_mm.append(np.mean(position_shot))\n",
    "        #Position_mm.append(position_loop[0])\n",
    "        \n",
    "        #print (Position_mm, Signal_fluo)\n",
    "    \n",
    "Signal_trans = np.asarray(Signal_trans)\n",
    "err_Signal_trans = np.asarray(err_Signal_trans)\n",
    "\n",
    "Signal_fluo = np.asarray(Signal_fluo)\n",
    "err_Signal_fluo = np.asarray(err_Signal_fluo)\n",
    "\n",
    "Position_mm = np.asarray(Position_mm)\n",
    "print (\"Job done!\")"
   ]
  },
  {
   "cell_type": "code",
   "execution_count": null,
   "metadata": {},
   "outputs": [],
   "source": [
    "plt.figure(figsize = (6,10))\n",
    "plt.subplots_adjust(hspace=0.25)\n",
    "\n",
    "plt.subplot(211)\n",
    "plt.plot(Position_mm, Signal_trans, label=\"Transmission\",marker='.')\n",
    "low_err_t= Signal_trans - err_Signal_trans\n",
    "high_err_t= Signal_trans + err_Signal_trans\n",
    "plt.fill_between(Position_mm, low_err_t, high_err_t, color='lightblue')\n",
    "plt.title(DIR)\n",
    "plt.grid()\n",
    "plt.xlabel(\"Position (mm)\")\n",
    "plt.legend(loc=\"best\")\n",
    "\n",
    "plt.subplot(212)\n",
    "plt.plot(Position_mm, Signal_fluo, label=\"Fluorescence\",marker='.')\n",
    "low_err_f= Signal_fluo - err_Signal_fluo\n",
    "high_err_f= Signal_fluo + err_Signal_fluo\n",
    "plt.fill_between(Position_mm, low_err_f, high_err_f, color='lightblue')\n",
    "plt.title(DIR)\n",
    "plt.grid()\n",
    "plt.xlabel(\"Position (mm)\")\n",
    "plt.legend(loc=\"best\")\n",
    "\n",
    "plt.show()\n",
    "#plt.savefig('Timescan_7_diode')"
   ]
  },
  {
   "cell_type": "code",
   "execution_count": null,
   "metadata": {
    "collapsed": true
   },
   "outputs": [],
   "source": []
  },
  {
   "cell_type": "code",
   "execution_count": null,
   "metadata": {
    "collapsed": true
   },
   "outputs": [],
   "source": []
  },
  {
   "cell_type": "code",
   "execution_count": null,
   "metadata": {
    "collapsed": true
   },
   "outputs": [],
   "source": []
  },
  {
   "cell_type": "code",
   "execution_count": null,
   "metadata": {
    "collapsed": true
   },
   "outputs": [],
   "source": []
  },
  {
   "cell_type": "code",
   "execution_count": null,
   "metadata": {
    "collapsed": true
   },
   "outputs": [],
   "source": []
  },
  {
   "cell_type": "code",
   "execution_count": null,
   "metadata": {
    "collapsed": true
   },
   "outputs": [],
   "source": []
  }
 ],
 "metadata": {
  "kernelspec": {
   "display_name": "Python [conda env:alvra-analysis]",
   "language": "python",
   "name": "conda-env-alvra-analysis-py"
  },
  "language_info": {
   "codemirror_mode": {
    "name": "ipython",
    "version": 3
   },
   "file_extension": ".py",
   "mimetype": "text/x-python",
   "name": "python",
   "nbconvert_exporter": "python",
   "pygments_lexer": "ipython3",
   "version": "3.6.7"
  }
 },
 "nbformat": 4,
 "nbformat_minor": 2
}
