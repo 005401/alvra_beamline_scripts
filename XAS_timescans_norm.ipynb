{
 "cells": [
  {
   "cell_type": "code",
   "execution_count": null,
   "metadata": {
    "collapsed": true
   },
   "outputs": [],
   "source": [
    "%matplotlib nbagg\n",
    "import numpy as np\n",
    "import json\n",
    "import os\n",
    "from matplotlib import pyplot as plt\n",
    "from scipy.optimize import curve_fit\n",
    "from scipy.fftpack import fft, ifft, fftfreq, fftshift\n",
    "from scipy.optimize import curve_fit\n",
    "from alvra_tools.load_data import *\n",
    "from alvra_tools.channels import *\n",
    "#from alvra_tools.channels_raw import *\n",
    "from alvra_tools.utils import errfunc_sigma, errfunc_fwhm"
   ]
  },
  {
   "cell_type": "code",
   "execution_count": null,
   "metadata": {
    "scrolled": true
   },
   "outputs": [],
   "source": [
    "scan_name =\"timescan_2840eV_6\"\n",
    "scan_range = \".run001674-001716\"\n",
    "\n",
    "DIR = \"/sf/alvra/data/p18442/raw/scan_data/\" + scan_name + \"/\"\n",
    "DIR_json = \"/sf/alvra/data/p18442/res/scan_info/\"\n",
    "\n",
    "\n",
    "!ls -lah -rt $DIR | grep BSREAD\n",
    "!hostname\n",
    "\n",
    "listfile = os.listdir(DIR)\n",
    "number_files = len(listfile)\n",
    "print (\"There are\",number_files,\"files in the folder\", DIR)"
   ]
  },
  {
   "cell_type": "markdown",
   "metadata": {},
   "source": [
    "# Load one step and filter some data from I0"
   ]
  },
  {
   "cell_type": "code",
   "execution_count": null,
   "metadata": {},
   "outputs": [],
   "source": [
    "#f =\"timesan_monoFEL_7122eV_12.7uJ_140_142mm_a_step0000.BSREAD.h5\"\n",
    "f =\"run_001697.BSREAD.h5\"\n",
    "\n",
    "\n",
    "fn = DIR + f\n",
    "\n",
    "(DataFluo_pump_shot, DataFluo_unpump_shot, IzeroFEL_pump_shot, IzeroFEL_unpump_shot, Delay_shot, \\\n",
    " DataTrans_pump_shot, DataTrans_unpump_shot) = load_PumpProbe_events(fn, channel_delay)\n",
    "\n",
    "IzeroFEL_pump_original = IzeroFEL_pump_shot.copy()\n",
    "IzeroFEL_unpump_original = IzeroFEL_unpump_shot.copy()\n",
    "print (IzeroFEL_pump_original.shape, IzeroFEL_unpump_original.shape)\n",
    "print (np.median(IzeroFEL_pump_shot))# - 1.2*(np.std(IzeroFEL_pump_shot)))\n",
    "\n",
    "conditionPumpMax = IzeroFEL_pump_shot < np.median(IzeroFEL_pump_shot)+3*(np.std(IzeroFEL_pump_shot))\n",
    "conditionPumpMin = IzeroFEL_pump_shot > np.median(IzeroFEL_pump_shot)-3*(np.std(IzeroFEL_pump_shot))\n",
    "\n",
    "conditionUnPumpMax = IzeroFEL_unpump_shot < np.median(IzeroFEL_unpump_shot)+3*(np.std(IzeroFEL_unpump_shot))\n",
    "conditionUnPumpMin = IzeroFEL_unpump_shot > np.median(IzeroFEL_unpump_shot)-3*(np.std(IzeroFEL_unpump_shot))\n",
    "\n",
    "conditionGeneral = IzeroFEL_pump_shot > 0.001\n",
    "conditionGeneral2 = IzeroFEL_unpump_shot > 0.001\n",
    "\n",
    "IzeroFEL_pump_shot = IzeroFEL_pump_shot[conditionPumpMin & conditionPumpMax & conditionUnPumpMin & conditionUnPumpMax & conditionGeneral & conditionGeneral2]\n",
    "\n",
    "#Izero_pump_loop = [x for x in Izero_unpump_loop if (np.abs(x) > 1000)]\n",
    "\n",
    "IzeroFEL_pump_shot = np.asarray(IzeroFEL_pump_shot)\n",
    "IzeroFEL_pump_original = np.asarray(IzeroFEL_pump_original)\n",
    "\n"
   ]
  },
  {
   "cell_type": "code",
   "execution_count": null,
   "metadata": {},
   "outputs": [],
   "source": [
    "#num_bins = 100\n",
    "plt.figure()\n",
    "plt.hist(IzeroFEL_pump_original, bins =np.arange(0,0.8,0.005), facecolor='red', alpha=0.5)\n",
    "plt.hist(IzeroFEL_pump_shot, bins =np.arange(0,0.8,0.005), facecolor='blue', alpha=0.5)\n",
    "#plt.hist(Izero_unpump_original, bins =np.arange(0,15000,100), facecolor='blue', alpha=0.5)\n",
    "\n",
    "plt.title(DIR)\n",
    "plt.show()\n",
    "print (IzeroFEL_pump_original.size, IzeroFEL_pump_shot.size)"
   ]
  },
  {
   "cell_type": "markdown",
   "metadata": {},
   "source": [
    "# Load time scan"
   ]
  },
  {
   "cell_type": "code",
   "execution_count": null,
   "metadata": {
    "scrolled": true
   },
   "outputs": [],
   "source": [
    "json_file = DIR_json + scan_name + scan_range + \".json\"\n",
    "print (json_file)\n",
    "\n",
    "with open(json_file) as file:\n",
    "    data = json.load(file)\n",
    "numFiles = len(data['scan_files'])\n",
    "#numFiles = 51\n",
    "\n",
    "print (\"Processing\",numFiles,\"files\")\n",
    "\n",
    "DataFluo_pump = []\n",
    "DataFluo_unpump = []\n",
    "err_DataFluo_pump = []\n",
    "err_DataFluo_unpump = []\n",
    "\n",
    "DataTrans_pump = []\n",
    "DataTrans_unpump = []\n",
    "err_DataTrans_pump = []\n",
    "err_DataTrans_unpump = []\n",
    "\n",
    "Pump_probe = []\n",
    "err_Pump_probe = []\n",
    "\n",
    "Delay_mm = []\n",
    "\n",
    "\n",
    "# from itertools import chain\n",
    "# concatenated = chain(range(0,37), range(43, 50))\n",
    "# for i in concatenated:\n",
    "for i in range(0,numFiles):             \n",
    "    filename = str(data['scan_files'][i][0])    \n",
    "    exists = os.path.isfile(filename)\n",
    "    if exists  and i!=3:\n",
    "        print(\"step\",i+1,\"of\",numFiles,\": Processing %s\" %(str(data['scan_files'][i][0])))\n",
    "        \n",
    "        (DataFluo_pump_shot, DataFluo_unpump_shot, IzeroFEL_pump_shot, IzeroFEL_unpump_shot, Delay_shot, \\\n",
    "         DataTrans_pump_shot, DataTrans_unpump_shot) = load_PumpProbe_events(filename, channel_delay)\n",
    "        \n",
    "        threshold_pump = IzeroFEL_pump_shot > 0.05\n",
    "        threshold_unpump = IzeroFEL_unpump_shot > 0.05\n",
    "        condition_pump = IzeroFEL_pump_shot > np.median(IzeroFEL_pump_shot)-3*(np.std(IzeroFEL_pump_shot))\n",
    "        condition_unpump = IzeroFEL_unpump_shot > np.median(IzeroFEL_unpump_shot)-3*(np.std(IzeroFEL_unpump_shot))\n",
    "\n",
    "        DataFluo_pump_shot = DataFluo_pump_shot[condition_pump & condition_unpump & threshold_pump & threshold_unpump]\n",
    "        IzeroFEL_pump_shot = IzeroFEL_pump_shot[condition_pump & condition_unpump & threshold_pump & threshold_unpump]\n",
    "        DataTrans_pump_shot = DataTrans_pump_shot[condition_pump & condition_unpump & threshold_pump & threshold_unpump]\n",
    "              \n",
    "        DataFluo_unpump_shot = DataFluo_unpump_shot[condition_pump & condition_unpump & threshold_pump & threshold_unpump]\n",
    "        IzeroFEL_unpump_shot = IzeroFEL_unpump_shot[condition_pump & condition_unpump & threshold_pump & threshold_unpump]\n",
    "        DataTrans_unpump_shot = DataTrans_unpump_shot[condition_pump & condition_unpump & threshold_pump & threshold_unpump]\n",
    "    \n",
    "    \n",
    "              \n",
    "        DataFluo_pump_shot_norm = DataFluo_pump_shot / IzeroFEL_pump_shot\n",
    "        DataFluo_unpump_shot_norm = DataFluo_unpump_shot / IzeroFEL_unpump_shot\n",
    "        DataTrans_pump_shot_norm = DataTrans_pump_shot / IzeroFEL_pump_shot\n",
    "        DataTrans_unpump_shot_norm = DataTrans_unpump_shot / IzeroFEL_unpump_shot\n",
    "              \n",
    "        Pump_probe_shot = DataFluo_pump_shot_norm - DataFluo_unpump_shot_norm\n",
    "        \n",
    "        DataFluo_pump.append(DataFluo_pump_shot_norm.mean())\n",
    "        DataFluo_unpump.append(DataFluo_unpump_shot_norm.mean())\n",
    "        DataTrans_pump.append(DataTrans_pump_shot_norm.mean())\n",
    "        DataTrans_unpump.append(DataTrans_unpump_shot_norm.mean())\n",
    "        \n",
    "        Pump_probe.append(Pump_probe_shot.mean())\n",
    "        \n",
    "        err_DataFluo_pump.append(DataFluo_pump_shot_norm.std()/np.sqrt(DataFluo_pump_shot_norm.size))\n",
    "        err_DataFluo_unpump.append(DataFluo_unpump_shot_norm.std()/np.sqrt(DataFluo_unpump_shot_norm.size))\n",
    "        err_DataTrans_pump.append(DataTrans_pump_shot_norm.std()/np.sqrt(DataTrans_pump_shot_norm.size))\n",
    "        err_DataTrans_unpump.append(DataTrans_unpump_shot_norm.std()/np.sqrt(DataTrans_unpump_shot_norm.size))\n",
    "              \n",
    "        err_Pump_probe.append(Pump_probe_shot.std()/np.sqrt(Pump_probe_shot.size))\n",
    "               \n",
    "        Delay_shot = [x for x in Delay_shot if (np.abs(x) > 0)]\n",
    "        Delay_mm.append(np.mean(Delay_shot))\n",
    "    \n",
    "DataFluo_pump = np.asarray(DataFluo_pump)\n",
    "DataFluo_unpump = np.asarray(DataFluo_unpump)\n",
    "DataTrans_pump = np.asarray(DataTrans_pump)\n",
    "DataTrans_unpump = np.asarray(DataTrans_unpump)\n",
    "              \n",
    "Pump_probe = np.asarray(Pump_probe)\n",
    "err_Pump_probe = np.asarray(err_Pump_probe)\n",
    "              \n",
    "err_DataFluo_pump = np.asarray(err_DataFluo_pump)\n",
    "err_DataFluo_unpump = np.asarray(err_DataFluo_unpump)\n",
    "err_DataTrans_pump = np.asarray(err_DataTrans_pump)\n",
    "err_DataTrans_unpump = np.asarray(err_DataTrans_unpump)\n",
    "            \n",
    "Delay_mm = np.asarray(Delay_mm)\n",
    "\n",
    "print (\"Job done!\")\n"
   ]
  },
  {
   "cell_type": "markdown",
   "metadata": {},
   "source": [
    "# Plot time scans"
   ]
  },
  {
   "cell_type": "code",
   "execution_count": null,
   "metadata": {
    "scrolled": false
   },
   "outputs": [],
   "source": [
    "#Timezero = 141.36   # position of Timezero on PP delay (in mm!)\n",
    "#Timezero = 160.0317   # position of Timezero on PP delay (in mm!)\n",
    "Timezero = 155.35   # position of Timezero on PP delay (in mm!)\n",
    "Delay_ps = (Delay_mm - Timezero)*2/(3e8*1e3*1e-12) # change to right t0 !\n",
    "#Delay_ps = Delay_mm\n",
    "scale=1\n",
    "\n",
    "#offset_corr_DataFluo_pump = scale*DataFluo_pump - np.mean(scale*DataFluo_pump[:3])\n",
    "#offset_corr_DataFluo_unpump = scale*DataFluo_unpump - np.mean(scale*DataFluo_unpump[:3])\n",
    "#offset_corr_pump_probe = offset_corr_DataFluo_pump - offset_corr_DataFluo_unpump\n",
    "\n",
    "\n",
    "plt.figure(figsize = (10,5))\n",
    "plt.suptitle(DIR, fontsize=12)\n",
    "\n",
    "#plt.title(DIR,horizontalalignment='right')\n",
    "low_err_pump = DataFluo_pump - err_DataFluo_pump\n",
    "high_err_pump = DataFluo_pump + err_DataFluo_pump\n",
    "low_err_unpump = DataFluo_unpump - err_DataFluo_unpump\n",
    "high_err_unpump = DataFluo_unpump + err_DataFluo_unpump\n",
    "low_err_pumpprobe = (Pump_probe) - np.sqrt(err_DataFluo_pump**2+err_DataFluo_unpump**2)\n",
    "high_err_pumpprobe = (Pump_probe) + np.sqrt(err_DataFluo_pump**2+err_DataFluo_unpump**2)\n",
    "\n",
    "plt.subplot(1,2,1)\n",
    "plt.plot(Delay_ps, scale*DataFluo_pump, label=\"ON\",marker='.')\n",
    "plt.plot(Delay_ps, scale*DataFluo_unpump, label=\"OFF\",marker='.')\n",
    "plt.fill_between(Delay_ps, scale*low_err_pump, scale*high_err_pump, color='lightblue')\n",
    "plt.fill_between(Delay_ps, scale*low_err_unpump, scale*high_err_unpump, color='navajowhite')\n",
    "plt.xlabel(\"Delay (ps)\")\n",
    "plt.gca().set_title('XAS (fluo)')\n",
    "plt.legend(loc=\"best\")\n",
    "\n",
    "plt.subplot(1,2,2)\n",
    "plt.plot(Delay_ps, scale*(Pump_probe), label=\"pump-probe\",marker='.')\n",
    "plt.fill_between(Delay_ps, scale*low_err_pumpprobe, scale*high_err_pumpprobe, color='lightblue')\n",
    "plt.grid()\n",
    "plt.xlabel(\"delay (ps)\")\n",
    "plt.gca().set_title('Pump-probe vs Delay')\n",
    "plt.legend(loc=\"best\")\n",
    "\n",
    "plt.legend(loc=\"best\")\n",
    "plt.subplots_adjust(wspace = 0.3,hspace = 0.5) \n",
    "\n",
    "plt.show()"
   ]
  },
  {
   "cell_type": "code",
   "execution_count": null,
   "metadata": {
    "collapsed": true
   },
   "outputs": [],
   "source": [
    "Pump_probe_tofit = (Pump_probe/DataFluo_unpump).copy()\n",
    "Delay_mm_tofit = Delay_mm.copy()\n",
    "Delay_ps_tofit = Delay_ps.copy()"
   ]
  },
  {
   "cell_type": "code",
   "execution_count": null,
   "metadata": {},
   "outputs": [],
   "source": [
    "# Now fit with error funciton (defined above)\n",
    "index = ~(np.isnan(Delay_mm_tofit) | np.isnan(Pump_probe_tofit))\n",
    "\n",
    "parameters,extras = curve_fit(errfunc_fwhm, Delay_mm_tofit[index], Pump_probe_tofit[index], p0 = [0, 0.2, 155, 0.5])\n",
    "\n",
    "print(\"Position t0 =\",np.round(parameters[2],5),\"mm\")\n",
    "print(\"Width =\",np.abs(np.round(parameters[3],3))*1000,\"um\")"
   ]
  },
  {
   "cell_type": "code",
   "execution_count": null,
   "metadata": {
    "scrolled": false
   },
   "outputs": [],
   "source": [
    "#... and the plot with the fit curve\n",
    "\n",
    "plt.figure()\n",
    "\n",
    "plt.plot(Delay_mm_tofit, Pump_probe_tofit, label=f\"{scan_name}\",marker='.')\n",
    "plt.plot(Delay_mm_tofit, errfunc_fwhm(Delay_mm_tofit,*parameters))\n",
    "\n",
    "#low_err = Pump_probe_tofit - err_pump_probe\n",
    "#high_err = Pump_probe_tofit + err_pump_probe\n",
    "#plt.fill_between(np.squeeze(Delay_mm), low_err, high_err, color='lightblue')\n",
    "\n",
    "#plt.fill_between(Delay_mm_toFit, low_err, high_err, color='lightblue')\n",
    "plt.title('t0=' + str(np.round(parameters[2], 5)) + ' mm' )\n",
    "plt.grid()\n",
    "plt.xlabel(\"Delay (mm)\")\n",
    "plt.legend(loc=\"best\")\n",
    "plt.show()\n",
    "#plt.savefig(savedir + 'scan_YAG_007')"
   ]
  },
  {
   "cell_type": "code",
   "execution_count": null,
   "metadata": {},
   "outputs": [],
   "source": [
    "# Now fit with error funciton (defined above)\n",
    "index = ~(np.isnan(Delay_ps_tofit) | np.isnan(Pump_probe_tofit))\n",
    "\n",
    "parameters,extras = curve_fit(errfunc_fwhm, Delay_ps_tofit[index], Pump_probe_tofit[index], p0 = [0, 0.2, 0, 0.5])\n",
    "\n",
    "print(\"Position t0 =\",np.round(parameters[2],5),\"ps\")\n",
    "print(\"Width =\",np.abs(np.round(parameters[3],3))*1000,\"fs\")"
   ]
  },
  {
   "cell_type": "code",
   "execution_count": null,
   "metadata": {},
   "outputs": [],
   "source": [
    "#... and the plot with the fit curve\n",
    "\n",
    "plt.figure()\n",
    "\n",
    "plt.plot(Delay_ps_tofit, Pump_probe_tofit, label=f\"{scan_name}\",marker='.')\n",
    "plt.plot(Delay_ps_tofit, errfunc_fwhm(Delay_ps_tofit,*parameters))\n",
    "\n",
    "#low_err = Pump_probe_tofit - err_pump_probe\n",
    "#high_err = Pump_probe_tofit + err_pump_probe\n",
    "#plt.fill_between(np.squeeze(Delay_mm), low_err, high_err, color='lightblue')\n",
    "\n",
    "#plt.fill_between(Delay_mm_toFit, low_err, high_err, color='lightblue')\n",
    "plt.title('width=' + str(np.round(parameters[3]*1000, 5)) + ' fs' )\n",
    "plt.grid()\n",
    "plt.xlabel(\"Delay (ps)\")\n",
    "plt.legend(loc=\"best\")\n",
    "plt.show()\n",
    "#plt.savefig(savedir + 'scan_YAG_007')"
   ]
  },
  {
   "cell_type": "code",
   "execution_count": null,
   "metadata": {},
   "outputs": [],
   "source": [
    "timelist=np.concatenate((np.arange(-1.5,-0.5-1,-1))-, np.arange(2847,2845.5-.5,-0.5),np.arange(2845,2835.25-.25,-0.25),np.arange(2835,2834.5-.5,-0.5),np.arange(2834,2831-1,-1)))"
   ]
  },
  {
   "cell_type": "code",
   "execution_count": null,
   "metadata": {
    "collapsed": true,
    "scrolled": false
   },
   "outputs": [],
   "source": [
    "def exponential_func(x,a,b,c):\n",
    "    return a*np.exp(-b*x)+c\n",
    "\n",
    "def bi_exponential_func(x,a,b,c, d, e):\n",
    "    return a*np.exp(-b*x)+c+d*np.exp(-e*x)\n",
    "\n",
    "Delay_ps = np.array(Delay_ps)\n",
    "t_range = Delay_ps > 0.02 \n",
    "\n",
    "popt,pcov = curve_fit(exponential_func, Delay_ps[t_range], -Pump_probe[t_range], p0 = (0.4, 10, 0.2))\n",
    "popt2,pcov2 = curve_fit(bi_exponential_func, Delay_ps[t_range], -Pump_probe[t_range], p0 = (0.4, 0.6, 0.2, 0.4, 6))\n",
    "\n",
    "xx= np.linspace(0, 20, 100)\n",
    "yy = exponential_func(xx, *popt)\n",
    "yyy= bi_exponential_func(xx, *popt2)\n",
    "\n",
    "plt.figure()\n",
    "plt.plot(Delay_ps, -Pump_probe)\n",
    "plt.plot(xx, yy)\n",
    "plt.plot(xx, yyy)\n",
    "\n",
    "\n",
    "print(popt)\n",
    "print(popt2)\n"
   ]
  }
 ],
 "metadata": {
  "kernelspec": {
   "display_name": "Python [conda env:alvra-analysis]",
   "language": "python",
   "name": "conda-env-alvra-analysis-py"
  },
  "language_info": {
   "codemirror_mode": {
    "name": "ipython",
    "version": 3
   },
   "file_extension": ".py",
   "mimetype": "text/x-python",
   "name": "python",
   "nbconvert_exporter": "python",
   "pygments_lexer": "ipython3",
   "version": "3.6.7"
  }
 },
 "nbformat": 4,
 "nbformat_minor": 2
}
