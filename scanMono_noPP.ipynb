{
 "cells": [
  {
   "cell_type": "code",
   "execution_count": null,
   "metadata": {
    "collapsed": true
   },
   "outputs": [],
   "source": [
    "%matplotlib nbagg\n",
    "import numpy as np\n",
    "import json\n",
    "import os\n",
    "from matplotlib import pyplot as plt\n",
    "from scipy.optimize import curve_fit\n",
    "from IPython.display import clear_output, display\n",
    "\n",
    "from alvra_tools.load_data import *\n",
    "from alvra_tools.channels import *\n",
    "from alvra_tools import *"
   ]
  },
  {
   "cell_type": "code",
   "execution_count": null,
   "metadata": {
    "collapsed": true
   },
   "outputs": [],
   "source": [
    "scan_name =\"mono_calib_7keV\"\n",
    "scan_range =\".run001101-001118\"\n",
    "\n",
    "#scan_name =\"RuFoil_monoscan_defocused_2\"\n",
    "#scan_range =\".run000282-000362\"\n",
    "\n",
    "\n",
    "DIR = \"/sf/alvra/data/p17589/res/scan_data/\" + scan_name + \"/\"\n",
    "DIR_json = \"/sf/alvra/data/p17589/res/scan_info/\""
   ]
  },
  {
   "cell_type": "code",
   "execution_count": null,
   "metadata": {},
   "outputs": [],
   "source": [
    "#json_file = DIR_json + scan_name + \"_scan_info.json\"\n",
    "json_file = DIR_json + scan_name + scan_range + \".json\"\n",
    "print (json_file)\n",
    "\n",
    "with open(json_file) as file:\n",
    "    data = json.load(file)\n",
    "numFiles = len(data['scan_files'])\n",
    "#numFiles = 1\n",
    "\n",
    "print (\"Processing\",numFiles,\"files\")\n",
    "\n",
    "Signal = []\n",
    "err_Signal = []\n",
    "\n",
    "Izero = []\n",
    "err_Izero = []\n",
    "\n",
    "Energy_eV = []\n",
    "\n",
    "for i in range(0,numFiles):\n",
    "    filename = str(data['scan_files'][i][0])\n",
    "    print (filename)\n",
    "    exists = os.path.isfile(filename)\n",
    "    if exists: # and i !=21:\n",
    "        clear_output(wait=True)\n",
    "        print(\"step\", i+1, \"of\",numFiles, f\": Processing {filename}\")\n",
    "        (data_shot, data_fluo_shot, Izero_shot, laser_shot, energy_shot, pulseIDs) = load_FEL_scans(filename, channel_energy)\n",
    "        \n",
    "        Signal.append(data_fluo_shot.mean()) #FLUO PIPS\n",
    "        err_Signal.append(data_fluo_shot.std()/np.sqrt(data_fluo_shot.size)) #FLUO PIPS\n",
    "                \n",
    "        Izero.append(Izero_shot.mean())\n",
    "        err_Izero.append(Izero_shot.std()/np.sqrt(Izero_shot.size))\n",
    "    \n",
    "        energy_shot = [x for x in energy_shot if (np.abs(x) > 0)]\n",
    "        Energy_eV.append(energy_shot[-1])\n",
    "    #Position_mm.append(position_loop[0])\n",
    "    \n",
    "    \n",
    "Signal = np.asarray(Signal)\n",
    "err_Signal = np.asarray(err_Signal)\n",
    "\n",
    "Izero = np.asarray(Izero)\n",
    "err_Izero = np.asarray(err_Izero)\n",
    "\n",
    "Energy_eV_readback = load_scan_readback(json_file)\n",
    "Energy_eV = np.asarray(Energy_eV)\n",
    "print (\"Job done!\")"
   ]
  },
  {
   "cell_type": "code",
   "execution_count": null,
   "metadata": {
    "collapsed": true
   },
   "outputs": [],
   "source": [
    "#Normalization\n",
    "\n",
    "#Signal_norm = -Signal / Izero\n",
    "#err_Signal_norm = err_Signal / Izero\n",
    "\n",
    "Signal_norm = Izero\n",
    "err_Signal_norm = err_Izero"
   ]
  },
  {
   "cell_type": "code",
   "execution_count": null,
   "metadata": {
    "scrolled": false
   },
   "outputs": [],
   "source": [
    "plt.figure()\n",
    "\n",
    "plt.plot(Energy_eV, Signal_norm, label=\"FEL\",marker='.')\n",
    "low_err= Signal_norm - err_Signal_norm\n",
    "high_err= Signal_norm + err_Signal_norm\n",
    "\n",
    "\n",
    "plt.fill_between(np.squeeze(Energy_eV), low_err, high_err, color='lightblue')\n",
    "plt.title(scan_name + scan_range)\n",
    "plt.xlabel(\"Energy (eV)\")\n",
    "plt.legend(loc=\"best\")\n",
    "plt.grid()\n",
    "\n",
    "\n",
    "plt.show()\n",
    "#plt.savefig('Timescan_7_diode')"
   ]
  },
  {
   "cell_type": "code",
   "execution_count": null,
   "metadata": {},
   "outputs": [],
   "source": [
    "spectrum_toFit = Signal_norm.copy()\n",
    "Energy_eV_toFit = np.copy(Energy_eV.ravel())\n",
    "\n",
    "def gaussian(x, amp, cen, wid):\n",
    "    return amp * np.exp(-4*(np.log(2))*(x-cen)**2 / wid**2)\n",
    "\n",
    "# Now fit with error funciton\n",
    "index = ~(np.isnan(Energy_eV_toFit) | np.isnan(spectrum_toFit))\n",
    "\n",
    "parameters,extras = curve_fit(gaussian, Energy_eV_toFit[index], spectrum_toFit[index], p0 = [0.3, 6403, 7])\n",
    "#parameters,extras = curve_fit(errfunc_fwhm, Delay_mm_toFit, Pump_probe_toFit, p0 = [0.01, 0.12, 161, 0.1])\n",
    "\n",
    "print(\"Position t0 =\",np.round(parameters[1],3),\"eV\")\n",
    "print(\"Width =\",np.abs(np.round(parameters[2],3)),\"eV\")\n",
    "\n",
    "#best_vals, covar = curve_fit(gaussian, x, y, p0=init_vals)"
   ]
  },
  {
   "cell_type": "code",
   "execution_count": null,
   "metadata": {},
   "outputs": [],
   "source": [
    "plt.figure()\n",
    "\n",
    "plt.plot(Energy_eV, Signal_norm, label=\"Width is %s eV\" % np.round(parameters[2],3),marker='.')\n",
    "low_err= Signal_norm - err_Signal_norm\n",
    "high_err= Signal_norm + err_Signal_norm\n",
    "plt.fill_between(np.squeeze(Energy_eV), low_err, high_err, color='lightblue')\n",
    "\n",
    "plt.plot(Energy_eV_toFit, gaussian(Energy_eV_toFit,*parameters))\n",
    "\n",
    "plt.title(scan_name + scan_range)\n",
    "plt.grid()\n",
    "plt.xlabel(\"Energy (eV)\")\n",
    "plt.legend(loc=\"best\")\n",
    "\n",
    "\n",
    "plt.show()"
   ]
  },
  {
   "cell_type": "code",
   "execution_count": null,
   "metadata": {
    "collapsed": true
   },
   "outputs": [],
   "source": [
    "Signal_norm1 = Signal_norm.copy()"
   ]
  },
  {
   "cell_type": "code",
   "execution_count": null,
   "metadata": {
    "collapsed": true
   },
   "outputs": [],
   "source": [
    "plt.figure()\n",
    "\n",
    "plt.plot(Energy_eV, Signal_norm_1, label=\"original\",marker='.')\n",
    "plt.plot(Energy_eV, Signal_norm_3, label=\"first try\",marker='.')\n",
    "plt.plot(Energy_eV, Signal_norm_2, label=\"second try\",marker='.')\n",
    "\n",
    "low_err= Signal_norm - err_Signal_norm\n",
    "high_err= Signal_norm + err_Signal_norm\n",
    "\n",
    "\n",
    "#plt.fill_between(Energy_eV, low_err, high_err, color='lightblue')\n",
    "plt.title(DIR)\n",
    "plt.xlabel(\"Energy (eV)\")\n",
    "plt.legend(loc=\"best\")\n",
    "\n",
    "\n",
    "plt.show()\n",
    "#plt.savefig('Timescan_7_diode')"
   ]
  },
  {
   "cell_type": "code",
   "execution_count": null,
   "metadata": {
    "collapsed": true
   },
   "outputs": [],
   "source": []
  }
 ],
 "metadata": {
  "kernelspec": {
   "display_name": "Python [conda env:alvra-analysis]",
   "language": "python",
   "name": "conda-env-alvra-analysis-py"
  },
  "language_info": {
   "codemirror_mode": {
    "name": "ipython",
    "version": 3
   },
   "file_extension": ".py",
   "mimetype": "text/x-python",
   "name": "python",
   "nbconvert_exporter": "python",
   "pygments_lexer": "ipython3",
   "version": "3.6.7"
  }
 },
 "nbformat": 4,
 "nbformat_minor": 2
}
