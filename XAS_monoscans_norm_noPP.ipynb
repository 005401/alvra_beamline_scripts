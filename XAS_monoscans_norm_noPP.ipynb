{
 "cells": [
  {
   "cell_type": "code",
   "execution_count": null,
   "metadata": {
    "collapsed": true
   },
   "outputs": [],
   "source": [
    "%matplotlib nbagg\n",
    "#import jungfrau_utils as ju\n",
    "import numpy as np\n",
    "import json\n",
    "import os\n",
    "import time\n",
    "from matplotlib import pyplot as plt\n",
    "from scipy.optimize import curve_fit\n",
    "\n",
    "import h5py\n",
    "\n",
    "from alvra_tools import *\n",
    "from alvra_tools.channels import *\n",
    "\n",
    "#from alvra_tools.channels_raw import *"
   ]
  },
  {
   "cell_type": "code",
   "execution_count": null,
   "metadata": {
    "scrolled": true
   },
   "outputs": [],
   "source": [
    "scan_name = \"RuBpy3_monoscan_015\"\n",
    "\n",
    "DIR = \"/sf/alvra/data/p17983/raw/scan_data/\" + scan_name + \"/\"\n",
    "DIR_json = \"/sf/alvra/data/p17983/res/scan_info/\"\n",
    "\n",
    "#DIR = \"/das/work/p17/p17983/Example_data/raw/scan_data/\" + scan_name + \"/\"\n",
    "#DIR_json = \"/das/work/p17/p17983/Example_data/res/scan_info/\"\n",
    "\n",
    "\n",
    "!ls -lah -rt $DIR\n",
    "!hostname\n",
    "\n",
    "listfile = os.listdir(DIR)\n",
    "number_files = len(listfile)\n",
    "print (\"There are\",number_files,\"files in the folder\", DIR)\n"
   ]
  },
  {
   "cell_type": "markdown",
   "metadata": {},
   "source": [
    "# Load one step and filter some data from I0"
   ]
  },
  {
   "cell_type": "code",
   "execution_count": null,
   "metadata": {},
   "outputs": [],
   "source": [
    "f =\"RuBpy3_monoscan_015_step0000.BSREAD.h5\"\n",
    "fn = DIR + f\n",
    "\n",
    "DataFEL_t, DataFEL_f, IzeroFEL, Laser, Variable, PulseIDs = load_FEL_scans(fn, channel_energy)\n",
    "\n",
    "IzeroFEL_original = IzeroFEL.copy()\n",
    "print (np.median(IzeroFEL))# - 2*(np.std(IzeroFEL_pump_shot)))\n",
    "\n",
    "conditionMax = IzeroFEL < np.median(IzeroFEL)+3*(np.std(IzeroFEL))\n",
    "conditionMin = IzeroFEL > np.median(IzeroFEL)-3*(np.std(IzeroFEL))\n",
    "\n",
    "conditionGeneral = IzeroFEL > 0\n",
    "\n",
    "IzeroFEL = IzeroFEL[conditionMin & conditionMax & conditionGeneral]\n",
    "#IzeroFEL = [x for x in IzeroFEL if (np.abs(x) > 1000)]"
   ]
  },
  {
   "cell_type": "code",
   "execution_count": null,
   "metadata": {},
   "outputs": [],
   "source": [
    "#num_bins = 100\n",
    "plt.figure()\n",
    "plt.hist(IzeroFEL_original, bins =np.arange(0,0.1,0.001), facecolor='red', alpha=0.5)\n",
    "plt.hist(IzeroFEL, bins =np.arange(0,0.1,0.001), facecolor='blue', alpha=0.5)\n",
    "#plt.hist(Izero_unpump_original, bins =np.arange(0,15000,100), facecolor='blue', alpha=0.5)\n",
    "\n",
    "plt.title(DIR)\n",
    "plt.show()\n",
    "print (IzeroFEL_original.size, IzeroFEL.size)"
   ]
  },
  {
   "cell_type": "markdown",
   "metadata": {},
   "source": [
    "# Load mono scan"
   ]
  },
  {
   "cell_type": "code",
   "execution_count": null,
   "metadata": {
    "scrolled": true
   },
   "outputs": [],
   "source": [
    "scan_name = \"Ru_foil_monoscan_003\"          # you need to change only this name\n",
    "\n",
    "######################################################################################\n",
    "\n",
    "json_file = DIR_json + scan_name + \"_scan_info.json\"\n",
    "print (json_file)\n",
    "\n",
    "with open(json_file) as file:\n",
    "    data = json.load(file)\n",
    "numFiles = len(data['scan_files'])\n",
    "#numFiles = 35\n",
    "\n",
    "DataFluo = []\n",
    "DataTrans = []\n",
    "err_DataFluo = []\n",
    "err_DataTrans = []\n",
    "Energy_eV = []\n",
    "\n",
    "clock = Clock()\n",
    "print(\"\\nProcessing\", numFiles, \"files total\")\n",
    "\n",
    "for i in range(0,numFiles):             \n",
    "    fn_BS = str(data['scan_files'][i][0])    \n",
    "    exists = os.path.isfile(fn_BS)\n",
    "    if exists:\n",
    "        print(\"step\",i+1,\"of\",numFiles,\": Processing %s\" %(str(data['scan_files'][i][0])))\n",
    "        \n",
    "        DataFEL_trans, DataFEL_fluo, IzeroFEL, Laser, energy_shot, PulseIDs = load_FEL_scans(fn_BS, channel_energy)\n",
    "        \n",
    "        threshold_Izero = IzeroFEL > 0.0001\n",
    "        \n",
    "        conditionMax = IzeroFEL < np.median(IzeroFEL)+3*(np.std(IzeroFEL))\n",
    "        conditionMin = IzeroFEL > np.median(IzeroFEL)-3*(np.std(IzeroFEL))\n",
    "              \n",
    "        DataFEL_trans = DataFEL_trans[threshold_Izero & conditionMax & conditionMin]\n",
    "        DataFEL_fluo = DataFEL_fluo[threshold_Izero & conditionMax & conditionMin]\n",
    "        IzeroFEL = IzeroFEL[threshold_Izero & conditionMax & conditionMin]\n",
    "        \n",
    "        DataFEL_trans_norm = DataFEL_trans / IzeroFEL\n",
    "        DataFEL_fluo_norm = DataFEL_fluo / IzeroFEL\n",
    "        \n",
    "        DataFluo.append(DataFEL_fluo_norm.mean())\n",
    "        DataTrans.append(DataFEL_trans_norm.mean())\n",
    "        \n",
    "        err_DataFluo.append(DataFEL_fluo_norm.std()/np.sqrt(DataFEL_fluo_norm.size))\n",
    "        err_DataTrans.append(DataFEL_trans_norm.std()/np.sqrt(DataFEL_trans_norm.size))\n",
    "            \n",
    "        energy_shot = [x for x in energy_shot if (np.abs(x) > 0)]\n",
    "        Energy_eV.append(np.mean(energy_shot))\n",
    "    \n",
    "DataFluo = np.asarray(DataFluo)\n",
    "DataTrans = np.asarray(DataTrans)\n",
    "err_DataFluo = np.asarray(err_DataFluo)\n",
    "err_DataTrans = np.asarray(err_DataTrans)\n",
    "            \n",
    "Energy_eV = np.asarray(Energy_eV)\n",
    "\n",
    "print (\"Job done!\")\n"
   ]
  },
  {
   "cell_type": "markdown",
   "metadata": {},
   "source": [
    "# Plot energy scans"
   ]
  },
  {
   "cell_type": "code",
   "execution_count": null,
   "metadata": {
    "scrolled": false
   },
   "outputs": [],
   "source": [
    "plt.figure(figsize = (10,5))\n",
    "plt.suptitle(DIR, fontsize=12)\n",
    "scale=1\n",
    "#plt.title(DIR,horizontalalignment='right')\n",
    "\n",
    "low_err_Fluo = DataFluo - err_DataFluo\n",
    "high_err_Fluo = DataFluo + err_DataFluo\n",
    "low_err_Trans = DataTrans - err_DataTrans\n",
    "high_err_Trans = DataTrans + err_DataTrans\n",
    "\n",
    "plt.subplot(1,2,1)\n",
    "plt.plot(Energy_eV, DataFluo, label=\"Fluorescence\",marker='.')\n",
    "plt.fill_between(Energy_eV, scale*low_err_Fluo, scale*high_err_Fluo, color='lightblue')\n",
    "plt.legend(loc=\"best\")\n",
    "plt.grid()\n",
    "\n",
    "plt.subplot(1,2,2)\n",
    "plt.plot(Energy_eV, DataTrans, label=\"Transmission\",marker='.')\n",
    "plt.fill_between(Energy_eV, scale*low_err_Trans, scale*high_err_Trans, color='lightblue')\n",
    "plt.legend(loc=\"best\")\n",
    "plt.grid()\n",
    "\n",
    "plt.show()"
   ]
  },
  {
   "cell_type": "markdown",
   "metadata": {},
   "source": [
    "# Summing scans"
   ]
  },
  {
   "cell_type": "markdown",
   "metadata": {},
   "source": [
    "## Plotting sumed scans"
   ]
  },
  {
   "cell_type": "code",
   "execution_count": null,
   "metadata": {
    "collapsed": true
   },
   "outputs": [],
   "source": []
  }
 ],
 "metadata": {
  "kernelspec": {
   "display_name": "Python [conda env:alvra-analysis]",
   "language": "python",
   "name": "conda-env-alvra-analysis-py"
  },
  "language_info": {
   "codemirror_mode": {
    "name": "ipython",
    "version": 3
   },
   "file_extension": ".py",
   "mimetype": "text/x-python",
   "name": "python",
   "nbconvert_exporter": "python",
   "pygments_lexer": "ipython3",
   "version": "3.6.7"
  }
 },
 "nbformat": 4,
 "nbformat_minor": 2
}
