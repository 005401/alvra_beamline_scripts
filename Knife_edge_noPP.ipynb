{
 "cells": [
  {
   "cell_type": "code",
   "execution_count": null,
   "metadata": {},
   "outputs": [],
   "source": [
    "%matplotlib nbagg\n",
    "import numpy as np\n",
    "import json\n",
    "import os\n",
    "from matplotlib import pyplot as plt\n",
    "from scipy.optimize import curve_fit\n",
    "\n",
    "from alvra_tools import *\n",
    "from alvra_tools.utils import errfunc_sigma, errfunc_fwhm\n",
    "from alvra_tools.channels import *"
   ]
  },
  {
   "cell_type": "code",
   "execution_count": null,
   "metadata": {
    "collapsed": true
   },
   "outputs": [],
   "source": [
    "scan_name =\"knife_edge_X_025\"\n",
    "\n",
    "\n",
    "DIR = \"/sf/alvra/data/p17984/raw/scan_data/\" + scan_name + \"/\"\n",
    "DIR_json = \"/sf/alvra/data/p17984/res/scan_info/\""
   ]
  },
  {
   "cell_type": "code",
   "execution_count": null,
<<<<<<< HEAD
   "metadata": {},
=======
   "metadata": {
    "collapsed": true
   },
>>>>>>> aec2bb7c368a565f3553586ec911c9d2d71176c4
   "outputs": [],
   "source": [
    "!ls -lah -rt $DIR | grep BSREAD.h5\n",
    "!hostname\n",
    "\n",
    "listfile = os.listdir(DIR)\n",
    "number_files = len(listfile)\n",
    "print (\"There are\",number_files,\"files in the folder\", DIR)"
   ]
  },
  {
   "cell_type": "code",
   "execution_count": null,
<<<<<<< HEAD
   "metadata": {},
=======
   "metadata": {
    "collapsed": true
   },
>>>>>>> aec2bb7c368a565f3553586ec911c9d2d71176c4
   "outputs": [],
   "source": [
    "json_file = DIR_json + scan_name + \"_scan_info.json\"\n",
    "print (json_file)\n",
    "\n",
    "with open(json_file) as file:\n",
    "    data = json.load(file)\n",
    "numFiles = len(data['scan_files'])\n",
    "#numFiles = 27\n",
    "\n",
    "print (\"Processing\",numFiles,\"files\")\n",
    "\n",
    "Signal = []\n",
    "err_Signal = []\n",
    "\n",
    "Izero = []\n",
    "err_Izero = []\n",
    "\n",
    "Position_mm = []\n",
    "\n",
    "\n",
    "for i in range(0,numFiles):\n",
    "    filename = str(data['scan_files'][i][0])\n",
    "    exists = os.path.isfile(filename)\n",
    "    if exists  and (i!=13):\n",
    "        print(\"step\",i+1,\"of\",numFiles,\": Processing %s\" % (str(data['scan_files'][i][0])))\n",
    "        \n",
    "        (data_t_shot, data_f_shot, Izero_shot, laser_shot, position_shot, pulseIDs) = \\\n",
    "        load_FEL_scans_pulseID(filename, channel_position_X, 50)\n",
    "        \n",
    "        Signal.append(data_t_shot.mean())\n",
    "        err_Signal.append(data_t_shot.std()/np.sqrt(data_t_shot.size))\n",
    "        \n",
    "        Izero.append(Izero_shot.mean())\n",
    "        err_Izero.append(Izero_shot.std()/np.sqrt(Izero_shot.size))\n",
    "    \n",
    "        position_shot = [x for x in position_shot if (np.abs(x) > 0)]\n",
    "        Position_mm.append(np.mean(position_shot))\n",
    "        #Position_mm.append(position_loop[0])\n",
    "    \n",
    "Signal = np.asarray(Signal)\n",
    "err_Signal = np.asarray(err_Signal)\n",
    "\n",
    "Izero = np.asarray(Izero)\n",
    "err_Izero = np.asarray(err_Izero)\n",
    "\n",
    "Position_mm = np.asarray(Position_mm)\n",
    "print (\"Job done!\")"
   ]
  },
  {
   "cell_type": "code",
   "execution_count": null,
   "metadata": {
    "collapsed": true
   },
   "outputs": [],
   "source": [
    "#Normalization\n",
    "\n",
    "Signal_norm = Signal / Izero\n",
    "err_Signal_norm = err_Signal / Izero"
   ]
  },
  {
   "cell_type": "code",
   "execution_count": null,
   "metadata": {
<<<<<<< HEAD
    "scrolled": false
=======
    "collapsed": true
>>>>>>> aec2bb7c368a565f3553586ec911c9d2d71176c4
   },
   "outputs": [],
   "source": [
    "plt.figure()\n",
    "\n",
    "plt.plot(Position_mm, Signal_norm, label=\"FEL\",marker='.')\n",
    "low_err= Signal_norm - err_Signal_norm\n",
    "high_err= Signal_norm + err_Signal_norm\n",
    "\n",
    "\n",
    "plt.fill_between(Position_mm, low_err, high_err, color='lightblue')\n",
    "plt.title(DIR)\n",
    "plt.xlabel(\"Position (mm)\")\n",
    "plt.legend(loc=\"best\")\n",
    "\n",
    "\n",
    "plt.show()\n",
    "#plt.savefig('Timescan_7_diode')"
   ]
  },
  {
   "cell_type": "code",
   "execution_count": null,
<<<<<<< HEAD
   "metadata": {},
=======
   "metadata": {
    "collapsed": true
   },
>>>>>>> aec2bb7c368a565f3553586ec911c9d2d71176c4
   "outputs": [],
   "source": [
    "# Now fit with error function (defined above)\n",
    "index = ~(np.isnan(Position_mm) | np.isnan(Signal_norm))\n",
    "parameters,extras = curve_fit(errfunc_fwhm, Position_mm[index], Signal_norm[index], p0 = [0.1, 1.6, -11.73, 0.1]) # [baseline, step amplitude, center, FWHM]\n",
    "\n",
    "print(\"Position t0 =\",(np.round(parameters[2],3)),\"mm\")\n",
    "print(\"Width =\",np.abs(np.round(parameters[3],3)),\"mm\")"
   ]
  },
  {
   "cell_type": "code",
   "execution_count": null,
<<<<<<< HEAD
   "metadata": {},
=======
   "metadata": {
    "collapsed": true
   },
>>>>>>> aec2bb7c368a565f3553586ec911c9d2d71176c4
   "outputs": [],
   "source": [
    "#... and the plot with the fit curve\n",
    "\n",
    "#savedir = \"/das/work/p17/p17569/Beamline/\"\n",
    "\n",
    "plt.figure()\n",
    "\n",
    "plt.plot(Position_mm, Signal_norm, label=f\"{scan_name}\",marker='.')\n",
    "plt.plot(Position_mm, errfunc_fwhm(Position_mm,*parameters))\n",
    "\n",
    "low_err= Signal_norm - err_Signal_norm\n",
    "high_err= Signal_norm + err_Signal_norm\n",
    "\n",
    "plt.fill_between(Position_mm, low_err, high_err, color='lightblue')\n",
    "\n",
    "plt.title(np.round(np.abs(parameters[3])*1000, 4) )\n",
    "#plt.title(\"X direction\")\n",
    "plt.grid()\n",
    "plt.xlabel(\"Position (mm)\")\n",
    "plt.legend(loc=\"best\")\n",
    "plt.show()\n",
    "#plt.savefig(savedir + 'scan_LAM_003')"
   ]
  },
  {
   "cell_type": "code",
   "execution_count": null,
   "metadata": {
    "collapsed": true
   },
   "outputs": [],
   "source": []
  }
 ],
 "metadata": {
  "kernelspec": {
   "display_name": "Python [conda env:dev]",
   "language": "python",
   "name": "conda-env-dev-py"
  },
  "language_info": {
   "codemirror_mode": {
    "name": "ipython",
    "version": 3
   },
   "file_extension": ".py",
   "mimetype": "text/x-python",
   "name": "python",
   "nbconvert_exporter": "python",
   "pygments_lexer": "ipython3",
   "version": "3.6.7"
  }
 },
 "nbformat": 4,
 "nbformat_minor": 2
}
