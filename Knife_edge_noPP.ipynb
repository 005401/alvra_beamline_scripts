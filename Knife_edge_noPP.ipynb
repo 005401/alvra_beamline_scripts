{
 "cells": [
  {
   "cell_type": "code",
   "execution_count": 2,
   "metadata": {},
   "outputs": [],
   "source": [
    "%matplotlib nbagg\n",
    "import numpy as np\n",
    "import json\n",
    "import os\n",
    "from matplotlib import pyplot as plt\n",
    "from scipy.optimize import curve_fit\n",
    "\n",
    "from alvra_tools import load_FEL_scans\n",
    "from alvra_tools import errfunc\n",
    "from alvra_tools.channels_res import *"
   ]
  },
  {
   "cell_type": "code",
   "execution_count": 3,
   "metadata": {
    "collapsed": true
   },
   "outputs": [],
   "source": [
    "scan_name =\"knife_edge-x_002\"\n",
    "\n",
    "DIR = \"/sf/alvra/data/p17805/res/scan_data/\" + scan_name + \"/\"\n",
    "DIR_json = \"/sf/alvra/data/p17805/res/scan_info/\""
   ]
  },
  {
   "cell_type": "code",
   "execution_count": 11,
   "metadata": {},
   "outputs": [
    {
     "name": "stdout",
     "output_type": "stream",
     "text": [
      "total 141M\n",
      "-rw-r--r--. 1 39147 p17805 5.6M May 20 16:18 knife_edge-x_002_step0000.h5\n",
      "-rw-r--r--. 1 39147 p17805 5.6M May 20 16:18 knife_edge-x_002_step0001.h5\n",
      "drwxr-sr-x. 4 39147 p17805 4.0K May 20 16:18 ..\n",
      "-rw-r--r--. 1 39147 p17805 5.6M May 20 16:18 knife_edge-x_002_step0002.h5\n",
      "-rw-r--r--. 1 39147 p17805 5.6M May 20 16:18 knife_edge-x_002_step0003.h5\n",
      "-rw-r--r--. 1 39147 p17805 5.6M May 20 16:18 knife_edge-x_002_step0004.h5\n",
      "-rw-r--r--. 1 39147 p17805 5.6M May 20 16:18 knife_edge-x_002_step0005.h5\n",
      "-rw-r--r--. 1 39147 p17805 5.6M May 20 16:18 knife_edge-x_002_step0006.h5\n",
      "-rw-r--r--. 1 39147 p17805 5.6M May 20 16:19 knife_edge-x_002_step0007.h5\n",
      "-rw-r--r--. 1 39147 p17805 5.6M May 20 16:19 knife_edge-x_002_step0008.h5\n",
      "-rw-r--r--. 1 39147 p17805 5.6M May 20 16:19 knife_edge-x_002_step0009.h5\n",
      "-rw-r--r--. 1 39147 p17805 5.6M May 20 16:19 knife_edge-x_002_step0010.h5\n",
      "-rw-r--r--. 1 39147 p17805 5.6M May 20 16:19 knife_edge-x_002_step0011.h5\n",
      "-rw-r--r--. 1 39147 p17805 5.6M May 20 16:19 knife_edge-x_002_step0012.h5\n",
      "-rw-r--r--. 1 39147 p17805 5.6M May 20 16:19 knife_edge-x_002_step0013.h5\n",
      "-rw-r--r--. 1 39147 p17805 5.6M May 20 16:19 knife_edge-x_002_step0014.h5\n",
      "-rw-r--r--. 1 39147 p17805 5.6M May 20 16:19 knife_edge-x_002_step0015.h5\n",
      "-rw-r--r--. 1 39147 p17805 5.6M May 20 16:20 knife_edge-x_002_step0016.h5\n",
      "-rw-r--r--. 1 39147 p17805 5.6M May 20 16:20 knife_edge-x_002_step0018.h5\n",
      "-rw-r--r--. 1 39147 p17805 5.6M May 20 16:20 knife_edge-x_002_step0019.h5\n",
      "-rw-r--r--. 1 39147 p17805 5.6M May 20 16:20 knife_edge-x_002_step0020.h5\n",
      "-rw-r--r--. 1 39147 p17805 5.6M May 20 16:21 knife_edge-x_002_step0021.h5\n",
      "-rw-r--r--. 1 39147 p17805 5.6M May 20 16:21 knife_edge-x_002_step0022.h5\n",
      "-rw-r--r--. 1 39147 p17805 5.6M May 20 16:21 knife_edge-x_002_step0023.h5\n",
      "-rw-r--r--. 1 39147 p17805 5.6M May 20 16:21 knife_edge-x_002_step0024.h5\n",
      "-rw-r--r--. 1 39147 p17805 5.6M May 20 16:21 knife_edge-x_002_step0025.h5\n",
      "drwxr-sr-x. 2 39147 p17805 4.0K May 20 16:21 .\n",
      "ra-c-004.psi.ch\n",
      "There are 25 files in the folder /sf/alvra/data/p17805/res/scan_data/knife_edge-x_002/\n"
     ]
    }
   ],
   "source": [
    "!ls -lah -rt $DIR\n",
    "!hostname\n",
    "\n",
    "listfile = os.listdir(DIR)\n",
    "number_files = len(listfile)\n",
    "print (\"There are\",number_files,\"files in the folder\", DIR)"
   ]
  },
  {
   "cell_type": "code",
   "execution_count": 27,
   "metadata": {},
   "outputs": [
    {
     "name": "stdout",
     "output_type": "stream",
     "text": [
      "/sf/alvra/data/p17805/res/scan_info/knife_edge-x_002_scan_info.json\n",
      "Processing 26 files\n",
      "step 1 of 26 : Processing /sf/alvra/data/p17805/res/scan_data/knife_edge-x_002/knife_edge-x_002_step0000.h5\n"
     ]
    },
    {
     "ename": "IndexError",
     "evalue": "invalid index to scalar variable.",
     "output_type": "error",
     "traceback": [
      "\u001b[0;31m---------------------------------------------------------------------------\u001b[0m",
      "\u001b[0;31mIndexError\u001b[0m                                Traceback (most recent call last)",
      "\u001b[0;32m<ipython-input-27-1efa01fb04de>\u001b[0m in \u001b[0;36m<module>\u001b[0;34m()\u001b[0m\n\u001b[1;32m     18\u001b[0m \u001b[0;34m\u001b[0m\u001b[0m\n\u001b[1;32m     19\u001b[0m \u001b[0;32mfor\u001b[0m \u001b[0mi\u001b[0m \u001b[0;32min\u001b[0m \u001b[0mrange\u001b[0m\u001b[0;34m(\u001b[0m\u001b[0;36m0\u001b[0m\u001b[0;34m,\u001b[0m\u001b[0mnumFiles\u001b[0m\u001b[0;34m)\u001b[0m\u001b[0;34m:\u001b[0m\u001b[0;34m\u001b[0m\u001b[0m\n\u001b[0;32m---> 20\u001b[0;31m     \u001b[0mfilename\u001b[0m \u001b[0;34m=\u001b[0m \u001b[0mstr\u001b[0m\u001b[0;34m(\u001b[0m\u001b[0mdata\u001b[0m\u001b[0;34m[\u001b[0m\u001b[0;34m'scan_files'\u001b[0m\u001b[0;34m]\u001b[0m\u001b[0;34m[\u001b[0m\u001b[0mi\u001b[0m\u001b[0;34m]\u001b[0m\u001b[0;34m[\u001b[0m\u001b[0;36m0\u001b[0m\u001b[0;34m]\u001b[0m\u001b[0;34m)\u001b[0m\u001b[0;34m\u001b[0m\u001b[0m\n\u001b[0m\u001b[1;32m     21\u001b[0m     \u001b[0mexists\u001b[0m \u001b[0;34m=\u001b[0m \u001b[0mos\u001b[0m\u001b[0;34m.\u001b[0m\u001b[0mpath\u001b[0m\u001b[0;34m.\u001b[0m\u001b[0misfile\u001b[0m\u001b[0;34m(\u001b[0m\u001b[0mfilename\u001b[0m\u001b[0;34m)\u001b[0m\u001b[0;34m\u001b[0m\u001b[0m\n\u001b[1;32m     22\u001b[0m     \u001b[0;32mif\u001b[0m \u001b[0mexists\u001b[0m\u001b[0;34m:\u001b[0m\u001b[0;34m\u001b[0m\u001b[0m\n",
      "\u001b[0;31mIndexError\u001b[0m: invalid index to scalar variable."
     ]
    }
   ],
   "source": [
    "json_file = DIR_json + scan_name + \"_scan_info.json\"\n",
    "print (json_file)\n",
    "\n",
    "with open(json_file) as file:\n",
    "    data = json.load(file)\n",
    "numFiles = len(data['scan_files'])\n",
    "#numFiles = 1\n",
    "\n",
    "print (\"Processing\",numFiles,\"files\")\n",
    "\n",
    "Signal = []\n",
    "err_Signal = []\n",
    "\n",
    "Izero = []\n",
    "err_Izero = []\n",
    "\n",
    "Position_mm = []\n",
    "\n",
    "for i in range(0,numFiles):\n",
    "    filename = str(data['scan_files'][i][0])\n",
    "    exists = os.path.isfile(filename)\n",
    "    if exists:\n",
    "        print(\"step\",i+1,\"of\",numFiles,\": Processing %s\" % (str(data['scan_files'][i][0])))\n",
    "        (data, Izero, position, pulseIDs) = load_FEL_scans_pulseID(filename, channel_position_X, 25)\n",
    "        Signal.append(data.mean())\n",
    "        err_Signal.append(data.std()/np.sqrt(data.size))\n",
    "        \n",
    "  #      Izero.append(Izero.mean())\n",
    "  #      err_Izero.append(Izero.std()/np.sqrt(Izero.size))\n",
    "    \n",
    "  #      position = [x for x in position if (np.abs(x) > 0)]\n",
    "        Position_mm.append(np.mean(position))\n",
    "    #Position_mm.append(position_loop[0])\n",
    "    \n",
    "Signal = np.asarray(Signal)\n",
    "err_Signal = np.asarray(err_Signal)\n",
    "\n",
    "Izero = np.asarray(Izero)\n",
    "err_Izero = np.asarray(err_Izero)\n",
    "\n",
    "Position_mm = np.asarray(Position_mm)\n",
    "print (\"Job done!\")"
   ]
  },
  {
   "cell_type": "code",
   "execution_count": null,
   "metadata": {
    "collapsed": true
   },
   "outputs": [],
   "source": [
    "#Normalization\n",
    "\n",
    "Signal_norm = Signal / Izero\n",
    "err_signal_norm = err_signal / Izero"
   ]
  },
  {
   "cell_type": "code",
   "execution_count": null,
   "metadata": {
    "collapsed": true
   },
   "outputs": [],
   "source": [
    "plt.figure()\n",
    "\n",
    "plt.plot(Position_mm, Signal_norm, label=\"FEL\",marker='.')\n",
    "low_err= Signal_norm - err_signal_norm\n",
    "high_err= Signal_norm + err_signal_norm\n",
    "\n",
    "\n",
    "plt.fill_between(Position_mm, low_err, high_err, color='lightblue')\n",
    "plt.title(DIR)\n",
    "plt.xlabel(\"Position (mm)\")\n",
    "plt.legend(loc=\"best\")\n",
    "\n",
    "\n",
    "plt.show()\n",
    "#plt.savefig('Timescan_7_diode')"
   ]
  },
  {
   "cell_type": "code",
   "execution_count": null,
   "metadata": {
    "collapsed": true
   },
   "outputs": [],
   "source": [
    "# Now fit with error function (defined above)\n",
    "parameters,extras = curve_fit(errfunc, Position_mm, Signal_norm, p0 = [0, 50000, 12.1, 0.5]) # [baseline, step amplitude, center, FWHM]\n",
    "\n",
    "print(\"Position t0 =\",(np.round(parameters[2],3)),\"mm\")\n",
    "print(\"Width =\",np.abs(np.round(parameters[3],3)),\"mm\")"
   ]
  },
  {
   "cell_type": "code",
   "execution_count": null,
   "metadata": {
    "collapsed": true
   },
   "outputs": [],
   "source": [
    "#... and the plot with the fit curve\n",
    "\n",
    "#savedir = \"/das/work/p17/p17569/Beamline/\"\n",
    "\n",
    "plt.figure()\n",
    "\n",
    "plt.plot(Position_mm, Signal_norm, label=\"label here\",marker='.')\n",
    "plt.plot(Position_mm, errfunc(Position_mm,*parameters))\n",
    "\n",
    "low_err= Signal_norm - err_signal_norm\n",
    "high_err= Signal_norm + err_signal_norm\n",
    "\n",
    "plt.fill_between(Position_mm, low_err, high_err, color='lightblue')\n",
    "\n",
    "plt.title(np.round(np.abs(parameters[3])*1000, 4) )\n",
    "#plt.title(\"X direction\")\n",
    "plt.grid()\n",
    "plt.xlabel(\"Position (mm)\")\n",
    "plt.legend(loc=\"lower left\")\n",
    "plt.show()\n",
    "#plt.savefig(savedir + 'scan_LAM_003')"
   ]
  }
 ],
 "metadata": {
  "kernelspec": {
   "display_name": "Python [conda env:4.4.0]",
   "language": "python",
   "name": "conda-env-4.4.0-py"
  },
  "language_info": {
   "codemirror_mode": {
    "name": "ipython",
    "version": 3
   },
   "file_extension": ".py",
   "mimetype": "text/x-python",
   "name": "python",
   "nbconvert_exporter": "python",
   "pygments_lexer": "ipython3",
   "version": "3.6.2"
  }
 },
 "nbformat": 4,
 "nbformat_minor": 2
}
